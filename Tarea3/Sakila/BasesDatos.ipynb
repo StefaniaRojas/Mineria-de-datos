{
 "cells": [
  {
   "cell_type": "markdown",
   "id": "2b4b23a2-9195-48bd-87e1-b481349d4c33",
   "metadata": {},
   "source": [
    "<h1> <center> <font color=\"red\"> <b> Bases de datos </b> </font> </h1>\n",
    "    <h4> <font color=\"13848D\"> <b> Presentado por: </b> </font> </h4>  \n",
    "    <h4>   Laura Carolina Rincón Ochoa  <br>\n",
    "       Stefanía Rojas García <br>\n",
    "       Jessica Lopez mejia  </h4>"
   ]
  },
  {
   "cell_type": "markdown",
   "id": "e68479c3-55c1-4daf-a6f7-b4c5c03be4e7",
   "metadata": {},
   "source": [
    "1. Instale localmente en su computadora SQL o MariaDB. <br>\n",
    "<img src=\"https:\\github.com\StefaniaRojas\Mineria-de-datos\blob\main\Tarea3\Sakila\Imagenes\MariaDB.png?raw=true"\n",
    "     height=\"341\">"
   ]
  },
  {
   "cell_type": "markdown",
   "id": "5613b9b3-f00d-4c00-b56d-11fe8863554b",
   "metadata": {},
   "source": [
    "2. Instale la base de datos sakila Ver enlace abajo y siga las instrucciones del cuaderno de Jupyter lab. <br>"
   ]
  },
  {
   "cell_type": "markdown",
   "id": "e103063d-9483-49ba-b52c-71a82e5be36e",
   "metadata": {},
   "source": [
    "3. Cree una ambiente de anaconda nuevo, instale Python y Jupyter lab. Agregue la extensión para MariaDB.\n",
    "<img src=\"Imagenes\\punto3.png\" width=\"250\"\n",
    "     height=\"341\">"
   ]
  },
  {
   "cell_type": "markdown",
   "id": "6af467c1-d2f1-40a2-b767-6f5a02ff806c",
   "metadata": {},
   "source": [
    "4. Ejecute la guía del enlace, consultado la base directamente desde la consola de MariaDB.\n",
    "<img src=\"Imagenes\\punto4.png\" width=\"600\"\n",
    "     height=\"341\">\n",
    "     <h4> <b> Consultando la base de datos <it>(Ejemplo Jupyter Notebook)</it> </b> </h4>\n",
    "<ol>\n",
    "  <li>  Lista de nombre completo de actores ordenada por apellido </li>\n",
    "    <img src=\"Imagenes\\punto6-1.png\" width=\"400\"\n",
    "     height=\"341\">\n",
    "  <li>  Número de actores por categoría del film, orden descendiente </li>\n",
    "    <img src=\"Imagenes\\punto6-2.png\" width=\"400\"\n",
    "     height=\"341\">\n",
    "  <li>  Actor que más ventas genera por tienda (store) </li>\n",
    "    <img src=\"Imagenes\\punto6-3.png\" width=\"400\"\n",
    "     height=\"341\">\n",
    "  <li>  Ventas totales por tienda    </li>   \n",
    "    <img src=\"Imagenes\\punto6-4.png\" width=\"400\"\n",
    "     height=\"341\">\n",
    "    <li>  <b> Los actores que más actuan </b>    </li>   \n",
    "    <img src=\"Imagenes\\punto6-5.png\" width=\"950\"\n",
    "     height=\"341\">  \n",
    "</ol>\n"
   ]
  },
  {
   "cell_type": "markdown",
   "id": "537693c3-8284-4681-b752-3914dd0225fc",
   "metadata": {},
   "source": [
    "5. Obtenga el diagrama entidad-relación usando algún designe como Workbench o DBeaver.\n",
    "<h4> <center> <font color=\"13848D\"> <b> Diagrama Entidad-Relación Employees  </b> </font> </h4> \n",
    "<center><img src=\"Imagenes\\DiagramaER2.png\" width=\"250\"\n",
    "     height=\"341\">\n",
    "<h4> <font color=\"13848D\"> <b> Diagrama Entidad-Relación Sakila  </b> </font> </h4> \n",
    "<center><img src=\"Imagenes\\DiagramaER1.png\" width=\"600\"\n",
    "     height=\"341\">"
   ]
  },
  {
   "cell_type": "markdown",
   "id": "d6933acb-87a8-44e5-9c93-ba1f510ac8f0",
   "metadata": {},
   "source": [
    "6. Escriba las consultas propuestas en el tutorial directamente en la consola y tomo fotos de evidencia del trabajo.\n",
    "<h4> <font color=\"13848D\"> <b> Employee Database  </b> </font> </h4> \n",
    "<img src=\"Imagenes\\punto6-1 (2).png\" width=\"500\"\n",
    "     height=\"341\">\n",
    "<h4> <font color=\"13848D\"> <b> Sakila Database  </b> </font> </h4>    \n",
    "<h5> <font color=\"red\"> <b> Views  </b> </font> </h5> \n",
    "<img src=\"Imagenes\\punto6-a.png\" width=\"500\"\n",
    "     height=\"341\"> \n",
    "<h5> <font color=\"red\"> <b> Procedimientos  </b> </font> </h5>      \n",
    "<img src=\"Imagenes\\punto6-b.png\" width=\"500\"\n",
    "     height=\"341\">  \n",
    "<h5> <font color=\"red\"> <b> Funciones  </b> </font> </h5> \n",
    "<img src=\"Imagenes\\punto6-c.png\" width=\"500\"\n",
    "     height=\"341\">\n",
    "<h5> <font color=\"red\"> <b> Triggers  </b> </font> </h5> \n",
    "<img src=\"Imagenes\\punto6-d.png\" width=\"500\"\n",
    "     height=\"341\"> \n",
    "<h5> <font color=\"red\"> <b> Consultas Propuestas</b> </font> </h5>      \n",
    "<img src=\"Imagenes\\punto6-7.png\" width=\"500\"\n",
    "     height=\"341\">\n",
    "<img src=\"Imagenes\\punto6-8.png\" width=\"500\"\n",
    "     height=\"341\">\n",
    "<h4> <font color=\"13848D\"> <b> Microsoft Northwind Trader Database  </b> </font> </h4>\n",
    "<h5> <font color=\"red\"> <b> Tablas  </b> </font> </h5> \n",
    "<img src=\"Imagenes\\punto 7-c.png\" width=\"500\"\n",
    "     height=\"341\"> \n",
    "<h5> <font color=\"red\"> <b> Views  </b> </font> </h5>      \n",
    "<img src=\"Imagenes\\punto 7-c1.png\" width=\"500\"\n",
    "     height=\"341\">  \n",
    "<h5> <font color=\"red\"> <b> Procedimientos  </b> </font> </h5> \n",
    "<img src=\"Imagenes\\punto 7-c2.png\" width=\"500\"\n",
    "     height=\"341\">\n",
    "<h5> <font color=\"red\"> <b> Consultas Propuestas</b> </font> </h5>      \n",
    "<img src=\"Imagenes\\punto 7-c3.png\" width=\"500\"\n",
    "     height=\"341\">\n",
    "<img src=\"Imagenes\\punto 7-c4.png\" width=\"500\"\n",
    "     height=\"341\">\n",
    "<img src=\"Imagenes\\punto 7-c5.png\" width=\"500\"\n",
    "     height=\"341\">\n",
    "<img src=\"Imagenes\\punto 7-c6.png\" width=\"500\"\n",
    "     height=\"341\">\n",
    "<img src=\"Imagenes\\punto 7-c7.png\" width=\"500\"\n",
    "     height=\"341\">\n",
    "<img src=\"Imagenes\\punto 7-c8.png\" width=\"500\"\n",
    "     height=\"341\">\n",
    "<img src=\"Imagenes\\punto 7-c9.png\" width=\"500\"\n",
    "     height=\"341\">\n",
    "<img src=\"Imagenes\\punto 7-c10.png\" width=\"500\"\n",
    "     height=\"341\">\n",
    "<img src=\"Imagenes\\punto 7-c11.png\" width=\"500\"\n",
    "     height=\"341\">\n",
    "<img src=\"Imagenes\\punto 7-c12.png\" width=\"500\"\n",
    "     height=\"341\">\n",
    "<img src=\"Imagenes\\punto 7-c13.png\" width=\"500\"\n",
    "     height=\"341\">\n",
    "<img src=\"Imagenes\\punto 7-c14.png\" width=\"500\"\n",
    "     height=\"341\">\n",
    "<img src=\"Imagenes\\punto 7-c15.png\" width=\"500\"\n",
    "     height=\"341\">\n",
    "<img src=\"Imagenes\\punto 7-c16.png\" width=\"500\"\n",
    "     height=\"341\">\n",
    "<img src=\"Imagenes\\punto 7-c17.png\" width=\"500\"\n",
    "     height=\"341\">\n",
    "<img src=\"Imagenes\\punto 7-c18.png\" width=\"500\"\n",
    "     height=\"341\">\n",
    "<img src=\"Imagenes\\punto 7-c19.png\" width=\"500\"\n",
    "     height=\"341\">\n",
    "<img src=\"Imagenes\\punto 7-c20.png\" width=\"500\"\n",
    "     height=\"341\">\n",
    "<img src=\"Imagenes\\punto 7-c21.png\" width=\"500\"\n",
    "     height=\"341\">\n",
    "<img src=\"Imagenes\\punto 7-c22.png\" width=\"500\"\n",
    "     height=\"341\">\n",
    "<img src=\"Imagenes\\punto 7-c23.png\" width=\"500\"\n",
    "     height=\"341\">\n",
    "<img src=\"Imagenes\\punto 7-c24.png\" width=\"500\"\n",
    "     height=\"341\">\n",
    "<img src=\"Imagenes\\punto 7-c25.png\" width=\"500\"\n",
    "     height=\"341\">\n",
    "<img src=\"Imagenes\\punto 7-c26.png\" width=\"500\"\n",
    "     height=\"341\">\n",
    "<img src=\"Imagenes\\punto 7-c27.png\" width=\"500\"\n",
    "     height=\"341\">"
   ]
  },
  {
   "cell_type": "markdown",
   "id": "6adde558-5e39-43ce-875f-42c6fe2a520f",
   "metadata": {},
   "source": [
    "7. Ejecute las consultas desde Jupyterlab usando la extensión para MariaDB."
   ]
  },
  {
   "cell_type": "code",
   "execution_count": 1,
   "id": "7b216dfa-87b1-41e8-9d81-d759629b570d",
   "metadata": {},
   "outputs": [],
   "source": [
    "import mariadb\n",
    "import sys"
   ]
  },
  {
   "cell_type": "raw",
   "id": "476118e7-99d2-44a0-bb9e-a362173cf2ec",
   "metadata": {},
   "source": [
    "def consulta(query):\n",
    "    try:\n",
    "        conexion = mariadb.connect(\n",
    "        user = \"\",\n",
    "        password \"\"= ,\n",
    "        host = \"\",\n",
    "        port = \"\",\n",
    "        database = \"\"\n",
    "        )\n",
    "        \n",
    "    except mariadb.Error as e:\n",
    "        print(f\"Error conectando con mariadb: {e}\") \n",
    "        \n",
    "    # Establecer cursor para la conexion con mariadb    \n",
    "    cursor = conexion.cursor()\n",
    "    cursor.execute(query)\n",
    "    resultado = cursor.fetchall()\n",
    "    conexion.close()\n",
    "    return print(resultado)"
   ]
  },
  {
   "cell_type": "markdown",
   "id": "085f8198-fa5e-4481-a0d9-6766e5a136fe",
   "metadata": {},
   "source": [
    "<h4> <font color=\"13848D\"> <b> Sakila Database  </b> </font> </h4> "
   ]
  },
  {
   "cell_type": "code",
   "execution_count": 3,
   "id": "b2675d75-7895-4958-b47f-960d1719c20d",
   "metadata": {},
   "outputs": [
    {
     "name": "stdout",
     "output_type": "stream",
     "text": [
      "[]\n"
     ]
    }
   ],
   "source": [
    "consulta1 = consulta(\"SELECT * FROM film_text \\\n",
    "WHERE MATCH(title, description) AGAINST ('great');\")\n",
    "consulta1"
   ]
  },
  {
   "cell_type": "code",
   "execution_count": 4,
   "id": "b0d8d3c1-57b8-448b-8331-83684eb00949",
   "metadata": {},
   "outputs": [
    {
     "name": "stdout",
     "output_type": "stream",
     "text": [
      "[]\n"
     ]
    }
   ],
   "source": [
    "consulta2 = consulta(\"SELECT * FROM film_text \\\n",
    "WHERE MATCH(title, description) AGAINST ('great good');\")\n",
    "consulta2"
   ]
  },
  {
   "cell_type": "code",
   "execution_count": 5,
   "id": "f2921703-eaf5-4229-8149-149681dde651",
   "metadata": {},
   "outputs": [
    {
     "name": "stdout",
     "output_type": "stream",
     "text": [
      "[]\n"
     ]
    }
   ],
   "source": [
    "consulta3 = consulta(\"SELECT * FROM film_text \\\n",
    "WHERE MATCH(title, description) AGAINST ('very good' IN BOOLEAN MODE);\")\n",
    "consulta3"
   ]
  },
  {
   "cell_type": "code",
   "execution_count": 6,
   "id": "ee366058-426a-4345-91c1-9e2d73eb4c3d",
   "metadata": {},
   "outputs": [
    {
     "name": "stdout",
     "output_type": "stream",
     "text": [
      "[]\n"
     ]
    }
   ],
   "source": [
    "consulta4 = consulta(\"SELECT * FROM film_text \\\n",
    "       WHERE MATCH(title, description) AGAINST ('+good -bad' IN BOOLEAN MODE);\")\n",
    "consulta4"
   ]
  },
  {
   "cell_type": "code",
   "execution_count": 7,
   "id": "f9500289-6af5-4dba-920a-70d1c0e62490",
   "metadata": {},
   "outputs": [
    {
     "name": "stdout",
     "output_type": "stream",
     "text": [
      "[(378, 'GREATEST NORTH', 'A Astounding Character Study of a Secret Agent And a Robot who must Build a A Shark in Berlin')]\n"
     ]
    }
   ],
   "source": [
    "consulta5 = consulta(\"SELECT * FROM film_text \\\n",
    "WHERE MATCH(title, description) AGAINST ('great*' IN BOOLEAN MODE);\")\n",
    "consulta5"
   ]
  },
  {
   "cell_type": "code",
   "execution_count": 8,
   "id": "1d730801-5e3f-45c2-b6ad-d5f918f41ac0",
   "metadata": {},
   "outputs": [
    {
     "name": "stdout",
     "output_type": "stream",
     "text": [
      "[]\n"
     ]
    }
   ],
   "source": [
    "consulta6 = consulta(\"SELECT * FROM film_text \\\n",
    "WHERE MATCH(title, description) AGAINST ('great' WITH QUERY EXPANSION);\")\n",
    "consulta6"
   ]
  },
  {
   "cell_type": "code",
   "execution_count": 9,
   "id": "f98801b2-6644-47af-98f2-a29376b130ea",
   "metadata": {},
   "outputs": [
    {
     "name": "stdout",
     "output_type": "stream",
     "text": [
      "[(1, 'ACADEMY DINOSAUR', 'A Epic Drama of a Feminist And a Mad Scientist who must Battle a Teacher in The Canadian Rockies', 'Documentary', Decimal('0.99'), 86, 'PG', 'PENELOPE GUINESS, CHRISTIAN GABLE, LUCILLE TRACY, SANDRA PECK, JOHNNY CAGE, MENA TEMPLE, WARREN NOLTE, OPRAH KILMER, ROCK DUKAKIS, MARY KEITEL')]\n"
     ]
    }
   ],
   "source": [
    "consulta7 = consulta(\"SELECT * FROM film_list LIMIT 1;\")\n",
    "consulta7"
   ]
  },
  {
   "cell_type": "code",
   "execution_count": 10,
   "id": "c127dfbb-0297-4c95-96a6-1ad7e2cff629",
   "metadata": {},
   "outputs": [
    {
     "name": "stdout",
     "output_type": "stream",
     "text": [
      "[(1, 'PENELOPE', 'GUINESS', 'Animation: ANACONDA CONFESSIONS; Children: LANGUAGE COWBOY; Classics: COLOR PHILADELPHIA, WESTWARD SEABISCUIT; Comedy: VERTIGO NORTHWEST; Documentary: ACADEMY DINOSAUR; Family: KING EVOLUTION, SPLASH GUMP; Foreign: MULHOLLAND BEAST; Games: BULWORTH COMMANDMENTS, HUMAN GRAFFITI; Horror: ELEPHANT TROJAN, LADY STAGE, RULES HUMAN; Music: WIZARD COLDBLOODED; New: ANGELS LIFE, OKLAHOMA JUMANJI; Sci-Fi: CHEAPER CLYDE; Sports: GLEAMING JAWBREAKER')]\n"
     ]
    }
   ],
   "source": [
    "consulta8 = consulta(\"SELECT * FROM actor_info LIMIT 1;\")\n",
    "consulta8"
   ]
  },
  {
   "cell_type": "code",
   "execution_count": 11,
   "id": "19134dc8-3993-4173-b5b6-8c2c56bcf2a0",
   "metadata": {},
   "outputs": [
    {
     "name": "stdout",
     "output_type": "stream",
     "text": [
      "[(1, 'Mike Hillyer', '23 Workhaven Lane', '', '14033335568', 'Lethbridge', 'Canada', 1), (2, 'Jon Stephens', '1411 Lillydale Drive', '', '6172235589', 'Woodridge', 'Australia', 2)]\n"
     ]
    }
   ],
   "source": [
    "consulta9 = consulta(\"SELECT * FROM staff_list;\")\n",
    "consulta9"
   ]
  },
  {
   "cell_type": "code",
   "execution_count": 12,
   "id": "b8f71faa-1895-45f5-87bd-0ca97912d7fa",
   "metadata": {},
   "outputs": [
    {
     "name": "stdout",
     "output_type": "stream",
     "text": [
      "[]\n"
     ]
    }
   ],
   "source": [
    "consulta10 = consulta(\"CALL rewards_report(2, 10, @numRewardees);\")\n",
    "consulta10"
   ]
  },
  {
   "cell_type": "code",
   "execution_count": 13,
   "id": "a529e3f0-8f36-4d53-86ff-f6d97ec22011",
   "metadata": {},
   "outputs": [
    {
     "name": "stdout",
     "output_type": "stream",
     "text": [
      "[(None,)]\n"
     ]
    }
   ],
   "source": [
    "consulta11 = consulta(\"SELECT @numRewardees;\")\n",
    "consulta11"
   ]
  },
  {
   "cell_type": "markdown",
   "id": "ebc90e31-020d-42e0-a959-cdf9308ca83d",
   "metadata": {},
   "source": [
    "8. Instale sqlalchemy. Siga las instrucciones del cuaderno de Jupyter lab."
   ]
  },
  {
   "cell_type": "code",
   "execution_count": 14,
   "id": "b0fbba8a-e30a-4049-929b-155dbf5e9537",
   "metadata": {},
   "outputs": [
    {
     "data": {
      "text/plain": [
       "'1.4.39'"
      ]
     },
     "execution_count": 14,
     "metadata": {},
     "output_type": "execute_result"
    }
   ],
   "source": [
    "import pandas as pd\n",
    "import sqlalchemy\n",
    "sqlalchemy.__version__ "
   ]
  },
  {
   "cell_type": "code",
   "execution_count": 15,
   "id": "4710897d-be98-4c35-9552-702051b10b81",
   "metadata": {},
   "outputs": [],
   "source": [
    "from sqlalchemy import create_engine"
   ]
  },
  {
   "cell_type": "markdown",
   "id": "358c98fe-f3ea-4118-a244-9e74afb0cb0a",
   "metadata": {},
   "source": [
    "9. Configure la conexión a su base de datos desde Jupyer Lab. Siga las instrucciones del cuaderno de Jupyter lab."
   ]
  },
  {
   "cell_type": "raw",
   "id": "ca3f3af5-0af3-4e67-b472-742b333b3868",
   "metadata": {},
   "source": [
    "def connect_db():\n",
    "    # MySQL user: root, password:, port:, database:\n",
    "    print(\"Start connecting to the database\")\n",
    "    sql_user = input(\"user:\") \n",
    "    sql_passwd = input(\"mysql password:\") \n",
    "    sql_host = input(\"host:\") \n",
    "    sql_port = int(input(\"port:\")) \n",
    "    sql_db = input(\"db:\") \n",
    "    \n",
    "    connection_string = 'mysql+pymysql://%s:%s@%s:%d/%s' % (sql_user, sql_passwd, sql_host, sql_port, sql_db) \n",
    "    \n",
    "    engine = create_engine(connection_string)\n",
    "    print(\"%s database connection succeeded\" % sql_db)\n",
    "    \n",
    "    return engine, connection_string\n",
    "\n",
    "engine, connection_string = connect_db() "
   ]
  },
  {
   "cell_type": "code",
   "execution_count": 17,
   "id": "f1d19c42-17c5-400d-954f-221a8108f9fc",
   "metadata": {},
   "outputs": [
    {
     "data": {
      "text/html": [
       "<div>\n",
       "<style scoped>\n",
       "    .dataframe tbody tr th:only-of-type {\n",
       "        vertical-align: middle;\n",
       "    }\n",
       "\n",
       "    .dataframe tbody tr th {\n",
       "        vertical-align: top;\n",
       "    }\n",
       "\n",
       "    .dataframe thead th {\n",
       "        text-align: right;\n",
       "    }\n",
       "</style>\n",
       "<table border=\"1\" class=\"dataframe\">\n",
       "  <thead>\n",
       "    <tr style=\"text-align: right;\">\n",
       "      <th></th>\n",
       "      <th>Actor</th>\n",
       "    </tr>\n",
       "  </thead>\n",
       "  <tbody>\n",
       "    <tr>\n",
       "      <th>0</th>\n",
       "      <td>DEBBIE AKROYD</td>\n",
       "    </tr>\n",
       "    <tr>\n",
       "      <th>1</th>\n",
       "      <td>KIRSTEN AKROYD</td>\n",
       "    </tr>\n",
       "    <tr>\n",
       "      <th>2</th>\n",
       "      <td>CHRISTIAN AKROYD</td>\n",
       "    </tr>\n",
       "    <tr>\n",
       "      <th>3</th>\n",
       "      <td>MERYL ALLEN</td>\n",
       "    </tr>\n",
       "    <tr>\n",
       "      <th>4</th>\n",
       "      <td>CUBA ALLEN</td>\n",
       "    </tr>\n",
       "    <tr>\n",
       "      <th>5</th>\n",
       "      <td>KIM ALLEN</td>\n",
       "    </tr>\n",
       "    <tr>\n",
       "      <th>6</th>\n",
       "      <td>ANGELINA ASTAIRE</td>\n",
       "    </tr>\n",
       "    <tr>\n",
       "      <th>7</th>\n",
       "      <td>RUSSELL BACALL</td>\n",
       "    </tr>\n",
       "    <tr>\n",
       "      <th>8</th>\n",
       "      <td>AUDREY BAILEY</td>\n",
       "    </tr>\n",
       "    <tr>\n",
       "      <th>9</th>\n",
       "      <td>JESSICA BAILEY</td>\n",
       "    </tr>\n",
       "  </tbody>\n",
       "</table>\n",
       "</div>"
      ],
      "text/plain": [
       "              Actor\n",
       "0     DEBBIE AKROYD\n",
       "1    KIRSTEN AKROYD\n",
       "2  CHRISTIAN AKROYD\n",
       "3       MERYL ALLEN\n",
       "4        CUBA ALLEN\n",
       "5         KIM ALLEN\n",
       "6  ANGELINA ASTAIRE\n",
       "7    RUSSELL BACALL\n",
       "8     AUDREY BAILEY\n",
       "9    JESSICA BAILEY"
      ]
     },
     "execution_count": 17,
     "metadata": {},
     "output_type": "execute_result"
    }
   ],
   "source": [
    "query = \"SELECT CONCAT(s.first_name, _utf8' ',  s.last_name) AS Actor \\\n",
    "FROM actor as s \\\n",
    "order by s.last_name \\\n",
    "limit 10;\"\n",
    "\n",
    "df = pd.read_sql(query, engine)\n",
    "df"
   ]
  },
  {
   "cell_type": "code",
   "execution_count": 18,
   "id": "a5607dcb-d6f7-4cd5-9738-efb8931a5a83",
   "metadata": {},
   "outputs": [
    {
     "data": {
      "text/html": [
       "<div>\n",
       "<style scoped>\n",
       "    .dataframe tbody tr th:only-of-type {\n",
       "        vertical-align: middle;\n",
       "    }\n",
       "\n",
       "    .dataframe tbody tr th {\n",
       "        vertical-align: top;\n",
       "    }\n",
       "\n",
       "    .dataframe thead th {\n",
       "        text-align: right;\n",
       "    }\n",
       "</style>\n",
       "<table border=\"1\" class=\"dataframe\">\n",
       "  <thead>\n",
       "    <tr style=\"text-align: right;\">\n",
       "      <th></th>\n",
       "      <th>categoria</th>\n",
       "      <th>numero_actores</th>\n",
       "    </tr>\n",
       "  </thead>\n",
       "  <tbody>\n",
       "    <tr>\n",
       "      <th>0</th>\n",
       "      <td>Sports</td>\n",
       "      <td>441</td>\n",
       "    </tr>\n",
       "    <tr>\n",
       "      <th>1</th>\n",
       "      <td>Foreign</td>\n",
       "      <td>397</td>\n",
       "    </tr>\n",
       "    <tr>\n",
       "      <th>2</th>\n",
       "      <td>Documentary</td>\n",
       "      <td>385</td>\n",
       "    </tr>\n",
       "    <tr>\n",
       "      <th>3</th>\n",
       "      <td>Action</td>\n",
       "      <td>363</td>\n",
       "    </tr>\n",
       "    <tr>\n",
       "      <th>4</th>\n",
       "      <td>Animation</td>\n",
       "      <td>361</td>\n",
       "    </tr>\n",
       "    <tr>\n",
       "      <th>5</th>\n",
       "      <td>Drama</td>\n",
       "      <td>350</td>\n",
       "    </tr>\n",
       "    <tr>\n",
       "      <th>6</th>\n",
       "      <td>Family</td>\n",
       "      <td>347</td>\n",
       "    </tr>\n",
       "    <tr>\n",
       "      <th>7</th>\n",
       "      <td>Children</td>\n",
       "      <td>344</td>\n",
       "    </tr>\n",
       "    <tr>\n",
       "      <th>8</th>\n",
       "      <td>New</td>\n",
       "      <td>343</td>\n",
       "    </tr>\n",
       "    <tr>\n",
       "      <th>9</th>\n",
       "      <td>Sci-Fi</td>\n",
       "      <td>326</td>\n",
       "    </tr>\n",
       "    <tr>\n",
       "      <th>10</th>\n",
       "      <td>Travel</td>\n",
       "      <td>321</td>\n",
       "    </tr>\n",
       "    <tr>\n",
       "      <th>11</th>\n",
       "      <td>Horror</td>\n",
       "      <td>317</td>\n",
       "    </tr>\n",
       "    <tr>\n",
       "      <th>12</th>\n",
       "      <td>Classics</td>\n",
       "      <td>307</td>\n",
       "    </tr>\n",
       "    <tr>\n",
       "      <th>13</th>\n",
       "      <td>Games</td>\n",
       "      <td>293</td>\n",
       "    </tr>\n",
       "    <tr>\n",
       "      <th>14</th>\n",
       "      <td>Comedy</td>\n",
       "      <td>286</td>\n",
       "    </tr>\n",
       "    <tr>\n",
       "      <th>15</th>\n",
       "      <td>Music</td>\n",
       "      <td>281</td>\n",
       "    </tr>\n",
       "  </tbody>\n",
       "</table>\n",
       "</div>"
      ],
      "text/plain": [
       "      categoria  numero_actores\n",
       "0        Sports             441\n",
       "1       Foreign             397\n",
       "2   Documentary             385\n",
       "3        Action             363\n",
       "4     Animation             361\n",
       "5         Drama             350\n",
       "6        Family             347\n",
       "7      Children             344\n",
       "8           New             343\n",
       "9        Sci-Fi             326\n",
       "10       Travel             321\n",
       "11       Horror             317\n",
       "12     Classics             307\n",
       "13        Games             293\n",
       "14       Comedy             286\n",
       "15        Music             281"
      ]
     },
     "execution_count": 18,
     "metadata": {},
     "output_type": "execute_result"
    }
   ],
   "source": [
    "# Número de actores por categoría del film, orden descendiente\n",
    "query2 = \"SELECT c.name as categoria, COUNT(actor_id) AS numero_actores \\\n",
    "FROM category AS c \\\n",
    "JOIN film_category as fc ON c.category_id = fc.category_id \\\n",
    "JOIN film as f ON fc.film_id = f.film_id \\\n",
    "JOIN film_actor as fa ON f.film_id = fa.film_id \\\n",
    "GROUP BY categoria \\\n",
    "ORDER BY numero_actores DESC;\"\n",
    "\n",
    "df2 = pd.read_sql(query2, engine)\n",
    "df2"
   ]
  },
  {
   "cell_type": "code",
   "execution_count": 19,
   "id": "e8a7455c-1389-40a9-9c3f-f76c0f565d7b",
   "metadata": {},
   "outputs": [
    {
     "data": {
      "text/html": [
       "<div>\n",
       "<style scoped>\n",
       "    .dataframe tbody tr th:only-of-type {\n",
       "        vertical-align: middle;\n",
       "    }\n",
       "\n",
       "    .dataframe tbody tr th {\n",
       "        vertical-align: top;\n",
       "    }\n",
       "\n",
       "    .dataframe thead th {\n",
       "        text-align: right;\n",
       "    }\n",
       "</style>\n",
       "<table border=\"1\" class=\"dataframe\">\n",
       "  <thead>\n",
       "    <tr style=\"text-align: right;\">\n",
       "      <th></th>\n",
       "      <th>tienda</th>\n",
       "      <th>actor_estrella</th>\n",
       "      <th>valor</th>\n",
       "    </tr>\n",
       "  </thead>\n",
       "  <tbody>\n",
       "    <tr>\n",
       "      <th>0</th>\n",
       "      <td>28 MySQL Boulevard</td>\n",
       "      <td>PENELOPE GUINESS</td>\n",
       "      <td>11.99</td>\n",
       "    </tr>\n",
       "    <tr>\n",
       "      <th>1</th>\n",
       "      <td>47 MySakila Drive</td>\n",
       "      <td>PENELOPE GUINESS</td>\n",
       "      <td>11.99</td>\n",
       "    </tr>\n",
       "  </tbody>\n",
       "</table>\n",
       "</div>"
      ],
      "text/plain": [
       "               tienda    actor_estrella  valor\n",
       "0  28 MySQL Boulevard  PENELOPE GUINESS  11.99\n",
       "1   47 MySakila Drive  PENELOPE GUINESS  11.99"
      ]
     },
     "execution_count": 19,
     "metadata": {},
     "output_type": "execute_result"
    }
   ],
   "source": [
    "# Actor que más ventas genera por tienda (store)\n",
    "query3 = \"SELECT  d.address as tienda, \\\n",
    "        CONCAT(a.first_name, _utf8' ',  a.last_name) AS actor_estrella, \\\n",
    "        MAX(p.amount) as valor \\\n",
    "FROM actor AS a \\\n",
    "JOIN film_actor AS fa ON a.actor_id = fa.actor_id \\\n",
    "JOIN film AS f ON fa.film_id = f.film_id \\\n",
    "JOIN inventory AS i ON f.film_id = i.film_id \\\n",
    "JOIN rental AS r ON i.inventory_id = r.inventory_id \\\n",
    "JOIN payment AS p ON r.rental_id = p.rental_id \\\n",
    "JOIN store AS s ON i.store_id = s.store_id \\\n",
    "JOIN address AS d ON s.address_id = d.address_id \\\n",
    "GROUP BY tienda;\"\n",
    "\n",
    "df3 = pd.read_sql(query3, engine)\n",
    "df3"
   ]
  },
  {
   "cell_type": "code",
   "execution_count": 20,
   "id": "19140cd0-0005-42b8-b229-81f760c3a605",
   "metadata": {},
   "outputs": [
    {
     "data": {
      "text/html": [
       "<div>\n",
       "<style scoped>\n",
       "    .dataframe tbody tr th:only-of-type {\n",
       "        vertical-align: middle;\n",
       "    }\n",
       "\n",
       "    .dataframe tbody tr th {\n",
       "        vertical-align: top;\n",
       "    }\n",
       "\n",
       "    .dataframe thead th {\n",
       "        text-align: right;\n",
       "    }\n",
       "</style>\n",
       "<table border=\"1\" class=\"dataframe\">\n",
       "  <thead>\n",
       "    <tr style=\"text-align: right;\">\n",
       "      <th></th>\n",
       "      <th>tienda</th>\n",
       "      <th>valor</th>\n",
       "    </tr>\n",
       "  </thead>\n",
       "  <tbody>\n",
       "    <tr>\n",
       "      <th>0</th>\n",
       "      <td>28 MySQL Boulevard</td>\n",
       "      <td>33726.77</td>\n",
       "    </tr>\n",
       "    <tr>\n",
       "      <th>1</th>\n",
       "      <td>47 MySakila Drive</td>\n",
       "      <td>33679.79</td>\n",
       "    </tr>\n",
       "  </tbody>\n",
       "</table>\n",
       "</div>"
      ],
      "text/plain": [
       "               tienda     valor\n",
       "0  28 MySQL Boulevard  33726.77\n",
       "1   47 MySakila Drive  33679.79"
      ]
     },
     "execution_count": 20,
     "metadata": {},
     "output_type": "execute_result"
    }
   ],
   "source": [
    "# Ventas totales por tienda\n",
    "query4 = \"select  d.address as tienda, \\\n",
    "        SUM(p.amount) as valor \\\n",
    "from    address as d \\\n",
    "join    store as s on s.address_id = d.address_id \\\n",
    "join    inventory as i on i.store_id = s.store_id \\\n",
    "join    rental as r on r.inventory_id = i.inventory_id \\\n",
    "join    payment as p on p.rental_id = r.rental_id \\\n",
    "group by tienda;\"\n",
    "\n",
    "df4 = pd.read_sql(query4, engine)\n",
    "df4"
   ]
  },
  {
   "cell_type": "code",
   "execution_count": 21,
   "id": "84186b8c-0be1-4af7-bb6f-77dadd8f03da",
   "metadata": {},
   "outputs": [
    {
     "data": {
      "text/html": [
       "<div>\n",
       "<style scoped>\n",
       "    .dataframe tbody tr th:only-of-type {\n",
       "        vertical-align: middle;\n",
       "    }\n",
       "\n",
       "    .dataframe tbody tr th {\n",
       "        vertical-align: top;\n",
       "    }\n",
       "\n",
       "    .dataframe thead th {\n",
       "        text-align: right;\n",
       "    }\n",
       "</style>\n",
       "<table border=\"1\" class=\"dataframe\">\n",
       "  <thead>\n",
       "    <tr style=\"text-align: right;\">\n",
       "      <th></th>\n",
       "      <th>CONCAT(f.title,_utf8' ',  f.description)</th>\n",
       "    </tr>\n",
       "  </thead>\n",
       "  <tbody>\n",
       "    <tr>\n",
       "      <th>0</th>\n",
       "      <td>ACADEMY DINOSAUR A Epic Drama of a Feminist An...</td>\n",
       "    </tr>\n",
       "    <tr>\n",
       "      <th>1</th>\n",
       "      <td>ACE GOLDFINGER A Astounding Epistle of a Datab...</td>\n",
       "    </tr>\n",
       "    <tr>\n",
       "      <th>2</th>\n",
       "      <td>ADAPTATION HOLES A Astounding Reflection of a ...</td>\n",
       "    </tr>\n",
       "    <tr>\n",
       "      <th>3</th>\n",
       "      <td>AFFAIR PREJUDICE A Fanciful Documentary of a F...</td>\n",
       "    </tr>\n",
       "    <tr>\n",
       "      <th>4</th>\n",
       "      <td>AFRICAN EGG A Fast-Paced Documentary of a Past...</td>\n",
       "    </tr>\n",
       "    <tr>\n",
       "      <th>5</th>\n",
       "      <td>AGENT TRUMAN A Intrepid Panorama of a Robot An...</td>\n",
       "    </tr>\n",
       "    <tr>\n",
       "      <th>6</th>\n",
       "      <td>AIRPLANE SIERRA A Touching Saga of a Hunter An...</td>\n",
       "    </tr>\n",
       "    <tr>\n",
       "      <th>7</th>\n",
       "      <td>AIRPORT POLLOCK A Epic Tale of a Moose And a G...</td>\n",
       "    </tr>\n",
       "    <tr>\n",
       "      <th>8</th>\n",
       "      <td>ALABAMA DEVIL A Thoughtful Panorama of a Datab...</td>\n",
       "    </tr>\n",
       "    <tr>\n",
       "      <th>9</th>\n",
       "      <td>ALADDIN CALENDAR A Action-Packed Tale of a Man...</td>\n",
       "    </tr>\n",
       "  </tbody>\n",
       "</table>\n",
       "</div>"
      ],
      "text/plain": [
       "            CONCAT(f.title,_utf8' ',  f.description)\n",
       "0  ACADEMY DINOSAUR A Epic Drama of a Feminist An...\n",
       "1  ACE GOLDFINGER A Astounding Epistle of a Datab...\n",
       "2  ADAPTATION HOLES A Astounding Reflection of a ...\n",
       "3  AFFAIR PREJUDICE A Fanciful Documentary of a F...\n",
       "4  AFRICAN EGG A Fast-Paced Documentary of a Past...\n",
       "5  AGENT TRUMAN A Intrepid Panorama of a Robot An...\n",
       "6  AIRPLANE SIERRA A Touching Saga of a Hunter An...\n",
       "7  AIRPORT POLLOCK A Epic Tale of a Moose And a G...\n",
       "8  ALABAMA DEVIL A Thoughtful Panorama of a Datab...\n",
       "9  ALADDIN CALENDAR A Action-Packed Tale of a Man..."
      ]
     },
     "execution_count": 21,
     "metadata": {},
     "output_type": "execute_result"
    }
   ],
   "source": [
    "# Los actores que más actuan\n",
    "query5 = \"select CONCAT(a.first_name, _utf8' ',  a.last_name) as actor, \\\n",
    "    count(a.actor_id) as numero_actuaciones \\\n",
    "from actor as a \\\n",
    "join film_actor as fa on a.actor_id = fa.actor_id \\\n",
    "group by (a.actor_id) \\\n",
    "having numero_actuaciones>15 \\\n",
    "order by numero_actuaciones desc;\"\n",
    "\n",
    "query5_1 = \"select CONCAT(f.title,_utf8' ',  f.description) \\\n",
    "from film as f \\\n",
    "limit 10;\"\n",
    "\n",
    "df5 = pd.read_sql(query5_1, engine)\n",
    "df5"
   ]
  },
  {
   "cell_type": "markdown",
   "id": "c406a6d5-4aa1-49c6-96f6-9f11fb524c51",
   "metadata": {},
   "source": [
    "10. Haga las consultas de antes, pero ahora súbalas a Pandas. Siga las instrucciones del cuaderno de Jupyter lab."
   ]
  },
  {
   "cell_type": "markdown",
   "id": "bf2a57d7-d507-421d-8f4a-35ff22c74d39",
   "metadata": {},
   "source": [
    "<h4> <font color=\"13848D\"> <b> Sakila Database  </b> </font> </h4> "
   ]
  },
  {
   "cell_type": "code",
   "execution_count": 22,
   "id": "f4a39c03-e599-438b-bb28-b32dafdcea9b",
   "metadata": {},
   "outputs": [
    {
     "data": {
      "text/html": [
       "<div>\n",
       "<style scoped>\n",
       "    .dataframe tbody tr th:only-of-type {\n",
       "        vertical-align: middle;\n",
       "    }\n",
       "\n",
       "    .dataframe tbody tr th {\n",
       "        vertical-align: top;\n",
       "    }\n",
       "\n",
       "    .dataframe thead th {\n",
       "        text-align: right;\n",
       "    }\n",
       "</style>\n",
       "<table border=\"1\" class=\"dataframe\">\n",
       "  <thead>\n",
       "    <tr style=\"text-align: right;\">\n",
       "      <th></th>\n",
       "      <th>film_id</th>\n",
       "      <th>title</th>\n",
       "      <th>description</th>\n",
       "    </tr>\n",
       "  </thead>\n",
       "  <tbody>\n",
       "  </tbody>\n",
       "</table>\n",
       "</div>"
      ],
      "text/plain": [
       "Empty DataFrame\n",
       "Columns: [film_id, title, description]\n",
       "Index: []"
      ]
     },
     "execution_count": 22,
     "metadata": {},
     "output_type": "execute_result"
    }
   ],
   "source": [
    "query6 = \"SELECT * FROM film_text \\\n",
    "WHERE MATCH(title, description) AGAINST ('great');\"\n",
    "\n",
    "df6 = pd.read_sql(query6, engine)\n",
    "df6"
   ]
  },
  {
   "cell_type": "code",
   "execution_count": 23,
   "id": "0c0b7699-f79c-464e-89f7-a44fa0f0b5a5",
   "metadata": {},
   "outputs": [
    {
     "data": {
      "text/html": [
       "<div>\n",
       "<style scoped>\n",
       "    .dataframe tbody tr th:only-of-type {\n",
       "        vertical-align: middle;\n",
       "    }\n",
       "\n",
       "    .dataframe tbody tr th {\n",
       "        vertical-align: top;\n",
       "    }\n",
       "\n",
       "    .dataframe thead th {\n",
       "        text-align: right;\n",
       "    }\n",
       "</style>\n",
       "<table border=\"1\" class=\"dataframe\">\n",
       "  <thead>\n",
       "    <tr style=\"text-align: right;\">\n",
       "      <th></th>\n",
       "      <th>film_id</th>\n",
       "      <th>title</th>\n",
       "      <th>description</th>\n",
       "    </tr>\n",
       "  </thead>\n",
       "  <tbody>\n",
       "  </tbody>\n",
       "</table>\n",
       "</div>"
      ],
      "text/plain": [
       "Empty DataFrame\n",
       "Columns: [film_id, title, description]\n",
       "Index: []"
      ]
     },
     "execution_count": 23,
     "metadata": {},
     "output_type": "execute_result"
    }
   ],
   "source": [
    "query7 = \"SELECT * FROM film_text \\\n",
    "WHERE MATCH(title, description) AGAINST ('great good'); \"\n",
    "\n",
    "df7 = pd.read_sql(query7, engine)\n",
    "df7"
   ]
  },
  {
   "cell_type": "code",
   "execution_count": 24,
   "id": "452d4d3f-f5c8-42ab-bbf2-8add8688604d",
   "metadata": {},
   "outputs": [
    {
     "data": {
      "text/html": [
       "<div>\n",
       "<style scoped>\n",
       "    .dataframe tbody tr th:only-of-type {\n",
       "        vertical-align: middle;\n",
       "    }\n",
       "\n",
       "    .dataframe tbody tr th {\n",
       "        vertical-align: top;\n",
       "    }\n",
       "\n",
       "    .dataframe thead th {\n",
       "        text-align: right;\n",
       "    }\n",
       "</style>\n",
       "<table border=\"1\" class=\"dataframe\">\n",
       "  <thead>\n",
       "    <tr style=\"text-align: right;\">\n",
       "      <th></th>\n",
       "      <th>film_id</th>\n",
       "      <th>title</th>\n",
       "      <th>description</th>\n",
       "    </tr>\n",
       "  </thead>\n",
       "  <tbody>\n",
       "  </tbody>\n",
       "</table>\n",
       "</div>"
      ],
      "text/plain": [
       "Empty DataFrame\n",
       "Columns: [film_id, title, description]\n",
       "Index: []"
      ]
     },
     "execution_count": 24,
     "metadata": {},
     "output_type": "execute_result"
    }
   ],
   "source": [
    "query8 = \"SELECT * FROM film_text \\\n",
    "WHERE MATCH(title, description) AGAINST ('very good' IN BOOLEAN MODE);\"\n",
    "\n",
    "df8 = pd.read_sql(query8, engine)\n",
    "df8"
   ]
  },
  {
   "cell_type": "code",
   "execution_count": 25,
   "id": "289046be-fdc8-40ee-8d38-4dc6ceb5fe01",
   "metadata": {},
   "outputs": [
    {
     "data": {
      "text/html": [
       "<div>\n",
       "<style scoped>\n",
       "    .dataframe tbody tr th:only-of-type {\n",
       "        vertical-align: middle;\n",
       "    }\n",
       "\n",
       "    .dataframe tbody tr th {\n",
       "        vertical-align: top;\n",
       "    }\n",
       "\n",
       "    .dataframe thead th {\n",
       "        text-align: right;\n",
       "    }\n",
       "</style>\n",
       "<table border=\"1\" class=\"dataframe\">\n",
       "  <thead>\n",
       "    <tr style=\"text-align: right;\">\n",
       "      <th></th>\n",
       "      <th>film_id</th>\n",
       "      <th>title</th>\n",
       "      <th>description</th>\n",
       "    </tr>\n",
       "  </thead>\n",
       "  <tbody>\n",
       "  </tbody>\n",
       "</table>\n",
       "</div>"
      ],
      "text/plain": [
       "Empty DataFrame\n",
       "Columns: [film_id, title, description]\n",
       "Index: []"
      ]
     },
     "execution_count": 25,
     "metadata": {},
     "output_type": "execute_result"
    }
   ],
   "source": [
    "query9 = \"SELECT * FROM film_text \\\n",
    "       WHERE MATCH(title, description) AGAINST ('+good -bad' IN BOOLEAN MODE);\"\n",
    "\n",
    "df9 = pd.read_sql(query9, engine)\n",
    "df9"
   ]
  },
  {
   "cell_type": "code",
   "execution_count": 26,
   "id": "efa5a68e-d97e-4860-9c01-c5cc54948149",
   "metadata": {},
   "outputs": [
    {
     "data": {
      "text/html": [
       "<div>\n",
       "<style scoped>\n",
       "    .dataframe tbody tr th:only-of-type {\n",
       "        vertical-align: middle;\n",
       "    }\n",
       "\n",
       "    .dataframe tbody tr th {\n",
       "        vertical-align: top;\n",
       "    }\n",
       "\n",
       "    .dataframe thead th {\n",
       "        text-align: right;\n",
       "    }\n",
       "</style>\n",
       "<table border=\"1\" class=\"dataframe\">\n",
       "  <thead>\n",
       "    <tr style=\"text-align: right;\">\n",
       "      <th></th>\n",
       "      <th>film_id</th>\n",
       "      <th>title</th>\n",
       "      <th>description</th>\n",
       "    </tr>\n",
       "  </thead>\n",
       "  <tbody>\n",
       "    <tr>\n",
       "      <th>0</th>\n",
       "      <td>378</td>\n",
       "      <td>GREATEST NORTH</td>\n",
       "      <td>A Astounding Character Study of a Secret Agent...</td>\n",
       "    </tr>\n",
       "  </tbody>\n",
       "</table>\n",
       "</div>"
      ],
      "text/plain": [
       "   film_id           title                                        description\n",
       "0      378  GREATEST NORTH  A Astounding Character Study of a Secret Agent..."
      ]
     },
     "execution_count": 26,
     "metadata": {},
     "output_type": "execute_result"
    }
   ],
   "source": [
    "query10 = \"SELECT * FROM film_text \\\n",
    "WHERE MATCH(title, description) AGAINST ('great*' IN BOOLEAN MODE);\"\n",
    "\n",
    "df10 = pd.read_sql(query10, engine)\n",
    "df10"
   ]
  },
  {
   "cell_type": "code",
   "execution_count": 27,
   "id": "06d5a2d0-e751-4980-9cd5-6b146e6194da",
   "metadata": {},
   "outputs": [
    {
     "data": {
      "text/html": [
       "<div>\n",
       "<style scoped>\n",
       "    .dataframe tbody tr th:only-of-type {\n",
       "        vertical-align: middle;\n",
       "    }\n",
       "\n",
       "    .dataframe tbody tr th {\n",
       "        vertical-align: top;\n",
       "    }\n",
       "\n",
       "    .dataframe thead th {\n",
       "        text-align: right;\n",
       "    }\n",
       "</style>\n",
       "<table border=\"1\" class=\"dataframe\">\n",
       "  <thead>\n",
       "    <tr style=\"text-align: right;\">\n",
       "      <th></th>\n",
       "      <th>film_id</th>\n",
       "      <th>title</th>\n",
       "      <th>description</th>\n",
       "    </tr>\n",
       "  </thead>\n",
       "  <tbody>\n",
       "  </tbody>\n",
       "</table>\n",
       "</div>"
      ],
      "text/plain": [
       "Empty DataFrame\n",
       "Columns: [film_id, title, description]\n",
       "Index: []"
      ]
     },
     "execution_count": 27,
     "metadata": {},
     "output_type": "execute_result"
    }
   ],
   "source": [
    "query11 = \"SELECT * FROM film_text \\\n",
    "WHERE MATCH(title, description) AGAINST ('great' WITH QUERY EXPANSION);\"\n",
    "\n",
    "df11 = pd.read_sql(query11, engine)\n",
    "df11"
   ]
  },
  {
   "cell_type": "code",
   "execution_count": 28,
   "id": "890a29d7-17ac-4a68-aeb5-0dfc50c6a0e2",
   "metadata": {},
   "outputs": [
    {
     "data": {
      "text/html": [
       "<div>\n",
       "<style scoped>\n",
       "    .dataframe tbody tr th:only-of-type {\n",
       "        vertical-align: middle;\n",
       "    }\n",
       "\n",
       "    .dataframe tbody tr th {\n",
       "        vertical-align: top;\n",
       "    }\n",
       "\n",
       "    .dataframe thead th {\n",
       "        text-align: right;\n",
       "    }\n",
       "</style>\n",
       "<table border=\"1\" class=\"dataframe\">\n",
       "  <thead>\n",
       "    <tr style=\"text-align: right;\">\n",
       "      <th></th>\n",
       "      <th>FID</th>\n",
       "      <th>title</th>\n",
       "      <th>description</th>\n",
       "      <th>category</th>\n",
       "      <th>price</th>\n",
       "      <th>length</th>\n",
       "      <th>rating</th>\n",
       "      <th>actors</th>\n",
       "    </tr>\n",
       "  </thead>\n",
       "  <tbody>\n",
       "    <tr>\n",
       "      <th>0</th>\n",
       "      <td>1</td>\n",
       "      <td>ACADEMY DINOSAUR</td>\n",
       "      <td>A Epic Drama of a Feminist And a Mad Scientist...</td>\n",
       "      <td>Documentary</td>\n",
       "      <td>0.99</td>\n",
       "      <td>86</td>\n",
       "      <td>PG</td>\n",
       "      <td>PENELOPE GUINESS, CHRISTIAN GABLE, LUCILLE TRA...</td>\n",
       "    </tr>\n",
       "  </tbody>\n",
       "</table>\n",
       "</div>"
      ],
      "text/plain": [
       "   FID             title                                        description  \\\n",
       "0    1  ACADEMY DINOSAUR  A Epic Drama of a Feminist And a Mad Scientist...   \n",
       "\n",
       "      category  price  length rating  \\\n",
       "0  Documentary   0.99      86     PG   \n",
       "\n",
       "                                              actors  \n",
       "0  PENELOPE GUINESS, CHRISTIAN GABLE, LUCILLE TRA...  "
      ]
     },
     "execution_count": 28,
     "metadata": {},
     "output_type": "execute_result"
    }
   ],
   "source": [
    "query12 = \"SELECT * FROM film_list LIMIT 1 ;\"\n",
    "\n",
    "df12 = pd.read_sql(query12, engine)\n",
    "df12"
   ]
  },
  {
   "cell_type": "code",
   "execution_count": 16,
   "id": "4cf84d8c-b13f-4af2-9869-068ef6b0151e",
   "metadata": {},
   "outputs": [
    {
     "data": {
      "text/html": [
       "<div>\n",
       "<style scoped>\n",
       "    .dataframe tbody tr th:only-of-type {\n",
       "        vertical-align: middle;\n",
       "    }\n",
       "\n",
       "    .dataframe tbody tr th {\n",
       "        vertical-align: top;\n",
       "    }\n",
       "\n",
       "    .dataframe thead th {\n",
       "        text-align: right;\n",
       "    }\n",
       "</style>\n",
       "<table border=\"1\" class=\"dataframe\">\n",
       "  <thead>\n",
       "    <tr style=\"text-align: right;\">\n",
       "      <th></th>\n",
       "      <th>actor_id</th>\n",
       "      <th>first_name</th>\n",
       "      <th>last_name</th>\n",
       "      <th>film_info</th>\n",
       "    </tr>\n",
       "  </thead>\n",
       "  <tbody>\n",
       "    <tr>\n",
       "      <th>0</th>\n",
       "      <td>1</td>\n",
       "      <td>PENELOPE</td>\n",
       "      <td>GUINESS</td>\n",
       "      <td>Animation: ANACONDA CONFESSIONS; Children: LAN...</td>\n",
       "    </tr>\n",
       "  </tbody>\n",
       "</table>\n",
       "</div>"
      ],
      "text/plain": [
       "   actor_id first_name last_name  \\\n",
       "0         1   PENELOPE   GUINESS   \n",
       "\n",
       "                                           film_info  \n",
       "0  Animation: ANACONDA CONFESSIONS; Children: LAN...  "
      ]
     },
     "execution_count": 16,
     "metadata": {},
     "output_type": "execute_result"
    }
   ],
   "source": [
    "query13 = \"SELECT * FROM actor_info LIMIT 1;\"\n",
    "\n",
    "df13 = pd.read_sql(query13, engine)\n",
    "df13"
   ]
  },
  {
   "cell_type": "code",
   "execution_count": 17,
   "id": "006c0faf-6318-472e-8a2c-3e8841566ef4",
   "metadata": {},
   "outputs": [
    {
     "data": {
      "text/html": [
       "<div>\n",
       "<style scoped>\n",
       "    .dataframe tbody tr th:only-of-type {\n",
       "        vertical-align: middle;\n",
       "    }\n",
       "\n",
       "    .dataframe tbody tr th {\n",
       "        vertical-align: top;\n",
       "    }\n",
       "\n",
       "    .dataframe thead th {\n",
       "        text-align: right;\n",
       "    }\n",
       "</style>\n",
       "<table border=\"1\" class=\"dataframe\">\n",
       "  <thead>\n",
       "    <tr style=\"text-align: right;\">\n",
       "      <th></th>\n",
       "      <th>ID</th>\n",
       "      <th>name</th>\n",
       "      <th>address</th>\n",
       "      <th>zip code</th>\n",
       "      <th>phone</th>\n",
       "      <th>city</th>\n",
       "      <th>country</th>\n",
       "      <th>SID</th>\n",
       "    </tr>\n",
       "  </thead>\n",
       "  <tbody>\n",
       "    <tr>\n",
       "      <th>0</th>\n",
       "      <td>1</td>\n",
       "      <td>Mike Hillyer</td>\n",
       "      <td>23 Workhaven Lane</td>\n",
       "      <td></td>\n",
       "      <td>14033335568</td>\n",
       "      <td>Lethbridge</td>\n",
       "      <td>Canada</td>\n",
       "      <td>1</td>\n",
       "    </tr>\n",
       "    <tr>\n",
       "      <th>1</th>\n",
       "      <td>2</td>\n",
       "      <td>Jon Stephens</td>\n",
       "      <td>1411 Lillydale Drive</td>\n",
       "      <td></td>\n",
       "      <td>6172235589</td>\n",
       "      <td>Woodridge</td>\n",
       "      <td>Australia</td>\n",
       "      <td>2</td>\n",
       "    </tr>\n",
       "  </tbody>\n",
       "</table>\n",
       "</div>"
      ],
      "text/plain": [
       "   ID          name               address zip code        phone        city  \\\n",
       "0   1  Mike Hillyer     23 Workhaven Lane           14033335568  Lethbridge   \n",
       "1   2  Jon Stephens  1411 Lillydale Drive            6172235589   Woodridge   \n",
       "\n",
       "     country  SID  \n",
       "0     Canada    1  \n",
       "1  Australia    2  "
      ]
     },
     "execution_count": 17,
     "metadata": {},
     "output_type": "execute_result"
    }
   ],
   "source": [
    "query14 = \"SELECT * FROM staff_list;\"\n",
    "\n",
    "df14 = pd.read_sql(query14, engine)\n",
    "df14"
   ]
  },
  {
   "cell_type": "code",
   "execution_count": 36,
   "id": "ea08d881-35a9-4d80-81e8-08403914b3cb",
   "metadata": {},
   "outputs": [
    {
     "data": {
      "text/html": [
       "<div>\n",
       "<style scoped>\n",
       "    .dataframe tbody tr th:only-of-type {\n",
       "        vertical-align: middle;\n",
       "    }\n",
       "\n",
       "    .dataframe tbody tr th {\n",
       "        vertical-align: top;\n",
       "    }\n",
       "\n",
       "    .dataframe thead th {\n",
       "        text-align: right;\n",
       "    }\n",
       "</style>\n",
       "<table border=\"1\" class=\"dataframe\">\n",
       "  <thead>\n",
       "    <tr style=\"text-align: right;\">\n",
       "      <th></th>\n",
       "      <th>customer_id</th>\n",
       "      <th>store_id</th>\n",
       "      <th>first_name</th>\n",
       "      <th>last_name</th>\n",
       "      <th>email</th>\n",
       "      <th>address_id</th>\n",
       "      <th>active</th>\n",
       "      <th>create_date</th>\n",
       "      <th>last_update</th>\n",
       "    </tr>\n",
       "  </thead>\n",
       "  <tbody>\n",
       "  </tbody>\n",
       "</table>\n",
       "</div>"
      ],
      "text/plain": [
       "Empty DataFrame\n",
       "Columns: [customer_id, store_id, first_name, last_name, email, address_id, active, create_date, last_update]\n",
       "Index: []"
      ]
     },
     "execution_count": 36,
     "metadata": {},
     "output_type": "execute_result"
    }
   ],
   "source": [
    "query15 = \"CALL rewards_report(2, 10, @numRewardees);\"\n",
    "\n",
    "df15 = pd.read_sql(query15, engine)\n",
    "df15"
   ]
  },
  {
   "cell_type": "code",
   "execution_count": 37,
   "id": "5d74675a-f53d-4818-ad36-2d1e42f24fcc",
   "metadata": {},
   "outputs": [
    {
     "data": {
      "text/html": [
       "<div>\n",
       "<style scoped>\n",
       "    .dataframe tbody tr th:only-of-type {\n",
       "        vertical-align: middle;\n",
       "    }\n",
       "\n",
       "    .dataframe tbody tr th {\n",
       "        vertical-align: top;\n",
       "    }\n",
       "\n",
       "    .dataframe thead th {\n",
       "        text-align: right;\n",
       "    }\n",
       "</style>\n",
       "<table border=\"1\" class=\"dataframe\">\n",
       "  <thead>\n",
       "    <tr style=\"text-align: right;\">\n",
       "      <th></th>\n",
       "      <th>@numRewardees</th>\n",
       "    </tr>\n",
       "  </thead>\n",
       "  <tbody>\n",
       "    <tr>\n",
       "      <th>0</th>\n",
       "      <td>0</td>\n",
       "    </tr>\n",
       "  </tbody>\n",
       "</table>\n",
       "</div>"
      ],
      "text/plain": [
       "   @numRewardees\n",
       "0              0"
      ]
     },
     "execution_count": 37,
     "metadata": {},
     "output_type": "execute_result"
    }
   ],
   "source": [
    "query16 = \"SELECT @numRewardees;\"\n",
    "\n",
    "df16 = pd.read_sql(query16, engine)\n",
    "df16"
   ]
  },
  {
   "cell_type": "markdown",
   "id": "b979dbbf-209e-484b-9174-e6e2847cfcb5",
   "metadata": {},
   "source": [
    "11. Conclusiones\n",
    "<ol>\n",
    "  <li>  A través de la extensión de mariadb en python se facilita hacer las diferentes consultas utilizando lenguaje SQL directamente, sin embargo no resulta tan trivial establecer la conexión con la base de datos. </li>\n",
    "  <li>  Es preciso ser bastante organizado para poder mostrar los resultados de las consultas realizadas directamente en la consola de MariaDB, para que sea entendible en el cuaderno ya que es preciso mostrar el código utilizado con la respectiva salida. </li>\n",
    "  <li>  La impresión visual cuando se suben las consultas a Pandas es mucho mejor que cuando estas fueron realizadas directamente con la extensión mariadb.\n",
    " </li>\n",
    "  <li>  Resulta bastante práctico realizar el diagrama entidad relación por medio de DBeaver.    </li>   \n",
    "</ol>\n"
   ]
  }
 ],
 "metadata": {
  "kernelspec": {
   "display_name": "Python 3 (ipykernel)",
   "language": "python",
   "name": "python3"
  },
  "language_info": {
   "codemirror_mode": {
    "name": "ipython",
    "version": 3
   },
   "file_extension": ".py",
   "mimetype": "text/x-python",
   "name": "python",
   "nbconvert_exporter": "python",
   "pygments_lexer": "ipython3",
   "version": "3.10.6"
  }
 },
 "nbformat": 4,
 "nbformat_minor": 5
}
