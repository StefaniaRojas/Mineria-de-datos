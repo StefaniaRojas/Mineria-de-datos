{
  "cells": [
    {
      "cell_type": "markdown",
      "metadata": {
        "id": "view-in-github",
        "colab_type": "text"
      },
      "source": [
        "<a href=\"https://colab.research.google.com/github/StefaniaRojas/Mineria-de-datos/blob/main/Trabajo_Miner%C3%ADa.ipynb\" target=\"_parent\"><img src=\"https://colab.research.google.com/assets/colab-badge.svg\" alt=\"Open In Colab\"/></a>"
      ]
    },
    {
      "cell_type": "markdown",
      "metadata": {
        "id": "r_fJLxmKYUvt"
      },
      "source": [
        "# <font color= blue> <b> <center> CLASIFICACIÓN DE VECINOS MÁS CERCANOS (KNN) </b> </i> </font>  </center>"
      ]
    },
    {
      "cell_type": "markdown",
      "metadata": {
        "id": "mNUQ4AxzaAys"
      },
      "source": [
        "## 1) Nota histórica"
      ]
    },
    {
      "cell_type": "markdown",
      "metadata": {
        "id": "m2AkpA6BZX68"
      },
      "source": [
        "Todo empieza con el informe de análisis técnico en 1951 producido para la USAF, escrito por Evelyn Fix(1904–1965) y Hodges Jr. (1922–2000) estadísticos de Berkeley que introdujeron un método de clasificación no paramétrico (análisis discriminante). Probablemente nunca publicaron el documento oficialmente por temas de confidencialidad, teniendo en cuenta el contexto de la guerra fria.\n",
        "\n",
        "Así se daría la primera clasificación no paramétrica que posteriormente el mundo conocería como **algoritmo kNN** un quindemio después en el departamento de ingeníería Electrica de la universidad Stanford se publicaría el articulo \"Nearest neighbor pattern classification\" aquí Thomas Cover y Peter Hart demostrarían que la mitad de la información de clasificación en un conjunto de muestras infinitas está contenida en el vecino más cercano, argumentando que.\n",
        "\n",
        "> \"Estos límites son los más estrechos posibles, para todas las distribuciones subyacentes adecuadamente uniformes. Así, para cualquier número de categorías, la probabilidad de error de la regla del vecino más cercano está acotada arriba por el doble de la probabilidad de error de Bayes\"(1967,P.Hart,p1).\n",
        "\n",
        "En las descadas subsecuentes se han implementado muchas mejoras y que seguramente seguirán implementandose. \n",
        "\n",
        "Una idea más clara de lo que sería el algortimo de KNN sería.\"El algoritmo kNN clasifica un punto de datos según la clasificación de sus vecinos. Asume que existen cosas similares en la proximidad, y depende de que esta suposición sea lo suficientemente cierta como para que el algoritmo sea útil\",(dataiku,2021)\n",
        "pese a que su fundamento es simple, lograría ser uno de los mejores clasificadores dejando atrás a otros más potentes, por lo cual se utliza en diferentes areas, es decir, es un algoritmo multifuncional, además en algunas ocasiones se usa como base para la construccion de algortimos más robustos.\n",
        "\n",
        "\n"
      ]
    },
    {
      "cell_type": "markdown",
      "metadata": {
        "id": "218LNwaUZFuU"
      },
      "source": [
        "## 2) Introducción"
      ]
    },
    {
      "cell_type": "markdown",
      "metadata": {
        "id": "Oxty0BFecTUa"
      },
      "source": [
        "Algunos de los aspectos más importante a tener en cuenta es que al ser no parametrico no hace suposiciones sobre los datos, además opta por recopilar información sobre su estructura y así utilizarla como información apriorí para \n",
        "las predicciones.\n",
        "\n",
        "Por lo anterior a pesar de que KNN suele ser muy intuitivo, descubre patrones y es muy preciso, también tiene problemas cuando se trata del manejo de grandes bases de datos y más si son de gran dimensionalidad, además de ser sensible con respecto a datos atipicos o faltantes.\n"
      ]
    },
    {
      "cell_type": "markdown",
      "metadata": {
        "id": "IFMxRJo6IgLo"
      },
      "source": [
        "### Funcionamiento \n",
        "\n",
        "Parte de la idea del algoritmo es calcular distancias con respecto a una clasificación y por tanto encontrar sus vecinos más cercanos mediante el voto de etiquetas, para ello se podría hablar de cuatro tipos de distancia según el entorno.\n",
        "\n",
        "\n",
        "*   Distancia Euclidiana \n",
        "*   Distancia Manhattan\n",
        "*   Distancia Mahalanobis\n",
        "*   Distancia Minkowski\n",
        "\n",
        "En cuanto a la clasificación el hiperparámetro *k* sería aquella variable de control para el modelo de predicción. Teniendo en cuenta que dependiendo la naturaleza de los datos dependerá el número preciso de vecinos, lo cual sería directamente proporcional al sesgo pero inversamente proporcional a la varianza, como ultima recomendación si el numero de clases es impar eliga un numero par.\n",
        "\n"
      ]
    },
    {
      "cell_type": "markdown",
      "metadata": {
        "id": "guCJ3MeWcYEI"
      },
      "source": [
        "### Paso a paso\n",
        "\n",
        "Para mirar un poco más en detalle como sería la metodología de este algoritmo dataiku (2021) nos muestra un paso a paso a seguir.\n",
        "\n",
        "1.   Importe las bibliotecas de Python relevantes\n",
        "2.   Importar los datos\n",
        "3.   Leer/limpiar/ajustar los datos (si es necesario)\n",
        "4.   Crear una división de entrenamiento/prueba\n",
        "5.   Crear el objeto modelo kNN\n",
        "6.   Ajuste el modelo\n",
        "7.   Predecir\n",
        "8.   Evaluar la precisión\n",
        "\n",
        "\n"
      ]
    },
    {
      "cell_type": "markdown",
      "metadata": {
        "id": "dl-lL70pNASY"
      },
      "source": [
        "### Computación\n",
        "Como se mencionó anteriormente, este algoritmo se caracteriza por tener una metodología simple, no obstante es un metodo de clasificación bastante competitivo e importante en temas de  minería de datos y reconocimiento de patrones. A pesar de algunas restricciones en cuanto al rendimiento es bastante común y popular para trabajar en un conjunto de datos. Es de notar que existen parámetros de optimización para el algoritmo, un ejemplo de ello sería en la función de python \"KNeighborsClassifier\", la cual tendría los siguiente parametros:\n",
        "\n",
        "*   n_neighbor: (predeterminado 5 ) Regula cuántos vecinos se deben revisar cuando se clasifica un artículo.\n",
        "*   weights:  (predeterminado: \" uniforme \") este valor hará que los pesos se distribuyan por igual entre todos los valores vecinos. \n",
        "*   algorithm:  (predeterminado: “auto”) utiliza el algoritmo más adecuado automáticamente en función del conjunto de datos.\n",
        "\n",
        "Es de notar, que además de esto existen otros parametrós de optimización kNN para un ajuste fino, es decir, tener una mayor optimización, además de evitar ineficiencias de rendimiento y tamaño.\n",
        "\n",
        "\n",
        "*  leaf_size (predeterminado: 30 ) Si se eligen los algoritmos BallTree o KDTree, esto permitirá el uso de parámetros adicionales como leaf_size, metrics, metric_size.\n",
        "*  p (predeterminado: 2 ) El parámetro p significa la potencia para Minkowski; manhattan_distance (l1) y euclidean_distance (l2)\n",
        "*  n_jobs (predeterminado: Ninguno ) Significa que los trabajos paralelos se permitirán al mismo tiempo para el algoritmo vecino Ninguno: asigna 1 como valor.\n",
        "\n",
        "\n",
        "\n",
        "\n",
        "\n",
        "\n"
      ]
    },
    {
      "cell_type": "markdown",
      "metadata": {
        "id": "WpaJKwV2aIF4"
      },
      "source": [
        "## 3) Fundamento matemático"
      ]
    },
    {
      "cell_type": "markdown",
      "metadata": {
        "id": "EadzK000AlAO"
      },
      "source": [
        "Ahora veamos gráficamente de lo que se trata este método. Suponga que x es el punto que se quiere predecir. Para poder realizar esto, primero se encuentra el punto más cercano a este valor y así se clasifican los puntos para obtener el voto mayoritario de los vecinos. Luego los objetos votan por la clase y la que tenga más votos se toma como la predicción. Y finalmente, para encontrar los puntos similares más cercanos, se busca la distancia entre ellos usando algún método para encontrar distancias.\n",
        "\n",
        "<center> <img src=\"https://live.staticflickr.com/65535/47646856032_e693b87caa_b.jpg?raw=true\\\"width='' height='350'> </center>\n",
        "\n",
        "Fuente: [Aprendeia](https://aprendeia.com/algoritmo-k-vecinos-mas-cercanos-teoria-machine-learning/#:~:text=K%20vecinos%20m%C3%A1s%20cercanos%20es,y%20la%20detecci%C3%B3n%20de%20intrusos)"
      ]
    },
    {
      "cell_type": "markdown",
      "metadata": {
        "id": "-C8fD61J80oj"
      },
      "source": [
        "Para la realización de este algoritmo se puede hacer uso de diferentes métodos para calcular las distancias entre los valores deseados. Se hablará primeramente de las formas clásicas de calcular estas distancias y su implementación, para luego mencionar otros métodos comúnes."
      ]
    },
    {
      "cell_type": "markdown",
      "metadata": {
        "id": "LxwhhOo2FPj1"
      },
      "source": [
        "### **Distancia Euclidiana**\n",
        "La distancia que existe entre dos puntos en el plano, es considerada como la distancia euclidiana. Esto se puede deducir del teorema de pitagoras. \n",
        "\n",
        "Supongamos que se tiene que $(x_1,y_1)$ y $(x_2,y_2)$ son dos puntos en un plano bidimensional. Se tiene entonces que la distancia euclidiana esta definida, teniendo en cuenta el teorema de pitagoras como:\n",
        "$$d=\\sqrt{\\left(x_2-x_1\\right)^2+\\left(y_2-y_1\\right)^2}$$\n",
        "\n",
        "<center> <img src=\"https://www.helenkapatsa.ru/content/images/2022/06/euclidian-distance.jpg?raw=true\\\"width='' height='450'> </center>\n",
        "\n",
        "Fuente: [Helenkapatsa](https://www.helenkapatsa.ru/ievklidovo-rasstoianiie/)\n",
        "\n",
        "Teniendo que \n",
        "\n",
        "*   $(x_1,y_1)$ es la coordenada del primer punto\n",
        "*   $(x_2,y_2)$ es la coordenada del segundo punto\n",
        "*   $d$ la distancia entre los dos puntos\n",
        "\n",
        "\n",
        "Por lo que de manera general se tiene que la distancia euclidiana se puede calcular como,\n",
        "\n",
        "$$d=\\sqrt{\\sum_{i=1}^k\\left(x_i-y_i\\right)^2}$$\n",
        "\n"
      ]
    },
    {
      "cell_type": "markdown",
      "metadata": {
        "id": "2PoQ1y82Qh2i"
      },
      "source": [
        "###### **Aplicación en Python**\n",
        "Existen diversas manera de calcular esta distancia, pero una de las maneras más eficaces es con el uso de la función *distance.euclidean()*, la cual se puede encontrar en la librería *scipy.spatial.distance*.\n",
        "\n",
        "Supongamos que se tienen dos puntos a y b, y se desea encontrar la distancia entre ellos. \n",
        "\n",
        "\n",
        "Lo primero que se debe hacer es crear los puntos."
      ]
    },
    {
      "cell_type": "code",
      "execution_count": null,
      "metadata": {
        "id": "xlyTDJ3YRYtD"
      },
      "outputs": [],
      "source": [
        "a = (1, 2)\n",
        "b = (3, 4)"
      ]
    },
    {
      "cell_type": "markdown",
      "metadata": {
        "id": "o5X_NCBdRbiw"
      },
      "source": [
        "Posteriormente, se carga la librería para poder hacer uso de la función."
      ]
    },
    {
      "cell_type": "code",
      "execution_count": null,
      "metadata": {
        "colab": {
          "base_uri": "https://localhost:8080/"
        },
        "id": "kn5F3xVkRJDB",
        "outputId": "e8fa56a0-5f26-4bc8-8b0f-0e8c70b0c192"
      },
      "outputs": [
        {
          "name": "stdout",
          "output_type": "stream",
          "text": [
            "La distancia entre el punto a y b es de:\n"
          ]
        },
        {
          "data": {
            "text/plain": [
              "2.8284271247461903"
            ]
          },
          "execution_count": 2,
          "metadata": {},
          "output_type": "execute_result"
        }
      ],
      "source": [
        "from scipy.spatial.distance import euclidean\n",
        "\n",
        "print(\"La distancia entre el punto a y b es de:\")\n",
        "euclidean(a, b)"
      ]
    },
    {
      "cell_type": "markdown",
      "metadata": {
        "id": "msSKFOTAKRcN"
      },
      "source": [
        "### **Distancia Manhattan**\n",
        "La distancia que existe entre dos puntos o vectores, teniendo en cuenta la suma de las diferencias absolutas $|X-Y|$, es considerada la distancia de Manhattan o distancia de Taxicab o distancia de City Block, debido a que se ve como una cuadrícula, que muestra como ir en diferentes direcciones a través de las calles de la ciudad. \n",
        "\n",
        "Supongamos que se tienen $X$ y $Y$ puntos en un espacio euclidiano de dimension $n$, con $(x_1,x_2,\\dots,x_n)$ y $(y_1,y_2,\\dots,y_n)$ sus respectivas coordenadas. Se tiene entonces, que la distancia de Manhattan esta definida como:\n",
        "\n",
        "$$d=|x_1-y_1|+|x_2-y_2|+|x_3-y_3|+\\dots+|x_n-y_n|$$\n",
        "<center> <img src=\"https://g2p4f9g9.rocketcdn.me/wp-content/uploads/2020/11/comparison_manhattan_distance_and_euclidean_distance.png?raw=true\\\"width='' height='350'> </center>\n",
        "\n",
        "\n",
        "Fuente: [Psychonaut](https://logicplum.com/knowledge-base/manhattan-distance/)\n",
        "\n",
        "En la figura anterior se puede observar la diferencia entre la distancia de Manhattan (líneas amarilla, rojas y azules) y la distancia Euclidiana (línea verde).\n"
      ]
    },
    {
      "cell_type": "markdown",
      "metadata": {
        "id": "hnA1afT-R_BG"
      },
      "source": [
        "###### **Aplicación en Python**\n",
        "Para el cálculo de esta distancia se puede crear la función teniendo en cuenta la fórmula de la misma, pero una de las maneras más útiles de encontrar esta distancia es con el uso de la función *cityblock()*, la cual se puede encontrar en la librería *scipy.spatial.distance*.\n",
        "\n",
        "Supongamos que se tienen dos vectores A y B, y se desea encontrar la distancia entre ellos. \n",
        "\n",
        "Lo primero que se debe hacer es crear los vectores."
      ]
    },
    {
      "cell_type": "code",
      "execution_count": null,
      "metadata": {
        "id": "jIZhzfvGS2qQ"
      },
      "outputs": [],
      "source": [
        "A = [1,2,3,4]\n",
        "B = [5,6,7,8]"
      ]
    },
    {
      "cell_type": "markdown",
      "metadata": {
        "id": "2D7BD8khTdeJ"
      },
      "source": [
        "Posteriormente, se carga la librería para poder hacer uso de la función."
      ]
    },
    {
      "cell_type": "code",
      "execution_count": null,
      "metadata": {
        "colab": {
          "base_uri": "https://localhost:8080/"
        },
        "id": "Y2uBhi1oTg3v",
        "outputId": "6ea8807b-decd-4157-f87c-83dfd95e2662"
      },
      "outputs": [
        {
          "name": "stdout",
          "output_type": "stream",
          "text": [
            "La distancia entre el vector A y B es de:\n"
          ]
        },
        {
          "data": {
            "text/plain": [
              "16"
            ]
          },
          "execution_count": 4,
          "metadata": {},
          "output_type": "execute_result"
        }
      ],
      "source": [
        "from scipy.spatial.distance import cityblock\n",
        "print(\"La distancia entre el vector A y B es de:\")\n",
        "cityblock(A, B)"
      ]
    },
    {
      "cell_type": "markdown",
      "metadata": {
        "id": "wFd3zI3MO0WD"
      },
      "source": [
        "### **Distancia de Mahalanobis**\n",
        "La distancia que existe entre dos puntos que se encuentran en un espacio multivariado, relativa al centroide (punto central \"media general\" donde todas las medias de las variables se interceptan).\n",
        "\n",
        "Supongamos que $X_A$ y $X_B$ son objetos  y $C$ es la matriz de covarianzas. Se tiene entonces que la distancia de Mahalanobis es:\n",
        "\n",
        "$$d=[(X_B-X_A)^t\\cdot C^{-1}\\cdot(X_B-X_A)]^{1/2}$$\n",
        "<center> <img src=\"https://statologos.com/wp-content/uploads/2022/04/PMC3329720_1471-2105-12-459-1.png.webp?ezimgfmt=rs:512x512/rscb1/ng:webp/ngcb1?raw=true\\\"width='' height='350'> </center>\n",
        "\n",
        "Fuente: [Statologos](https://statologos.com/distancia-mahalanobis/)\n",
        "\n",
        "Se tiene que entre más grande la distancia de Mahalanobis, más lejos se encuentra el dato del centroide. Uno de los usos más importantes de esta distancia es la identificación y obtención de los datos atípicos."
      ]
    },
    {
      "cell_type": "markdown",
      "metadata": {
        "id": "K0HMqCpIUdAC"
      },
      "source": [
        "###### **Aplicación en Python**\n",
        "Una de las maneras de encontrar esta distancia es con el uso de la función *cdist()*, la cual se puede encontrar en la librería *scipy.spatial.distance*. Esta función encuentra la distancia entre dos colecciones.\n",
        "\n",
        "Supongamos que se tienen dos colecciones X y Y, y se desea encontrar la distancia entre ellas. \n",
        "\n",
        "Lo primero que se debe hacer es crear las colecciones. Haciendo uso de la librería *numpy*\n",
        "\n"
      ]
    },
    {
      "cell_type": "code",
      "execution_count": null,
      "metadata": {
        "id": "5Jeplm8dVGgK"
      },
      "outputs": [],
      "source": [
        "import numpy as np\n",
        "X = np.array([[[1,2,3],\n",
        "               [3,4,5],\n",
        "               [5,6,7]],\n",
        "              [[5,6,7],\n",
        "               [7,8,9],\n",
        "               [9,1,2]]])\n",
        "i,j,k = X.shape\n",
        "XX = X.reshape(i,j*k).T\n",
        "\n",
        "Y = np.array([[[9,8,7],\n",
        "               [7,6,5],\n",
        "               [5,4,3]],\n",
        "              [[5,4,3],\n",
        "               [3,2,1],\n",
        "               [1,9,8]]])\n",
        "YY = Y.reshape(i,j*k).T"
      ]
    },
    {
      "cell_type": "markdown",
      "metadata": {
        "id": "T0QR69EOVG29"
      },
      "source": [
        "Posteriormente, se carga la librería para poder hacer uso de la función."
      ]
    },
    {
      "cell_type": "code",
      "execution_count": null,
      "metadata": {
        "colab": {
          "base_uri": "https://localhost:8080/"
        },
        "id": "jNzuLL_cVPMh",
        "outputId": "e9c907a4-9838-4ce7-ff8c-c0369d3f9255"
      },
      "outputs": [
        {
          "name": "stdout",
          "output_type": "stream",
          "text": [
            "La distancia entre la colección X y Y es de:\n",
            "[4.16762441 2.8723369  1.95478912 1.95478912 2.02033089 3.0053167\n",
            " 3.0053167  2.70895587 2.29219343]\n"
          ]
        }
      ],
      "source": [
        "from scipy.spatial.distance import cdist\n",
        "results =  cdist(XX,YY,'mahalanobis')\n",
        "\n",
        "results = np.diag(results)\n",
        "print(\"La distancia entre la colección X y Y es de:\")\n",
        "print(results)"
      ]
    },
    {
      "cell_type": "markdown",
      "metadata": {
        "id": "rijMhXI7ziqD"
      },
      "source": [
        "### **Distancia de Minkowski**\n",
        "Esta distancia es una generalización de las distancias Manhattan y Euclidiana que se mencionaron anteriormente, en donde se agrega un parámetro $p$. Se tiene que si este parámetro $p$ es $1$, entonces esta distancia es igual a la de Manhattan, pero si se tiene que $p$ es $2$ es igual a la Euclidiana.\n",
        "\n",
        "Supongamos que se tiene $P$ y $Q$ puntos con $(p_1,p_2,\\dots,p_n)$ y $(q_1,q_2,\\dots,q_n)$ sus respectivas coordenadas. Se tiene entonces que la distancia Minkowski esta definida como:\n",
        "$$d=(|p_1-q_1|^p+|p_2-q_2|^p+|p_3-q_3|^p+\\dots+|p_n-q_n|^p)^{1/p}$$\n",
        "<center> <img src=\"https://iq.opengenus.org/content/images/2019/01/opengenus_minkowshi_distance.png?raw=true\\\"width='' height='450'> </center>\n",
        "\n",
        "Fuente:[OpenGenus](https://iq.opengenus.org/minkowski-distance/)"
      ]
    },
    {
      "cell_type": "markdown",
      "metadata": {
        "id": "COFrFapKYhg5"
      },
      "source": [
        "###### **Aplicación en Python**\n",
        "Una de las maneras de encontrar esta distancia es con el uso de la función *minkowski()*, la cual se puede encontrar en la librería *scipy.spatial.distance*. Esta función encuentra la distancia entre dos puntos, dependiendo del parámetro $p$ que se le asigne.\n",
        "\n",
        "Supongamos que se tienen dos puntos c y d , y se desea encontrar la distancia entre ellos. "
      ]
    },
    {
      "cell_type": "code",
      "execution_count": null,
      "metadata": {
        "id": "VzMsepYVZseF"
      },
      "outputs": [],
      "source": [
        "c = (1, 2, 3, 4, 5)\n",
        "d = (7, 8, 9, 10, 11)"
      ]
    },
    {
      "cell_type": "markdown",
      "metadata": {
        "id": "b63edV_LaMe-"
      },
      "source": [
        "Posteriormente, se carga la librería para poder hacer uso de la función.\n",
        "\n",
        "PAra este ejemplo se usará un parámetro $p=3$"
      ]
    },
    {
      "cell_type": "code",
      "execution_count": null,
      "metadata": {
        "colab": {
          "base_uri": "https://localhost:8080/"
        },
        "id": "4p-liLQVaL_8",
        "outputId": "be8a6d7a-b012-4f96-8a06-134112dc4f71"
      },
      "outputs": [
        {
          "name": "stdout",
          "output_type": "stream",
          "text": [
            "La distancia entre los puntos c y d es de:\n"
          ]
        },
        {
          "data": {
            "text/plain": [
              "6.3496042078727974"
            ]
          },
          "execution_count": 8,
          "metadata": {},
          "output_type": "execute_result"
        }
      ],
      "source": [
        "from scipy.spatial.distance import minkowski\n",
        "print(\"La distancia entre los puntos c y d es de:\")\n",
        "minkowski(A, B, p=3)"
      ]
    },
    {
      "cell_type": "markdown",
      "metadata": {
        "id": "bP8QlV9yat4s"
      },
      "source": [
        "Como se habia mencionado anteriormente, si se utiliza el parámetro $p=1$ se obtiene la distancia Manhattan, mientras que si se tiene un parámetro de $p=2$ se tiene la distancia Euclidiana. "
      ]
    },
    {
      "cell_type": "code",
      "execution_count": null,
      "metadata": {
        "colab": {
          "base_uri": "https://localhost:8080/"
        },
        "id": "KOjNqqgfbKS_",
        "outputId": "b0d615e0-445b-4934-b632-5ee0c02cec17"
      },
      "outputs": [
        {
          "name": "stdout",
          "output_type": "stream",
          "text": [
            "La distancia Manhattan entre los vectores A y B es de:\n",
            "16.0\n",
            "La distancia Euclideana entre los puntos a y b es de:\n",
            "2.8284271247461903\n"
          ]
        }
      ],
      "source": [
        "print(\"La distancia Manhattan entre los vectores A y B es de:\")\n",
        "print(minkowski(A,B, p=1))\n",
        "\n",
        "print(\"La distancia Euclideana entre los puntos a y b es de:\")\n",
        "print(minkowski(a, b, p=2))"
      ]
    },
    {
      "cell_type": "markdown",
      "metadata": {
        "id": "1TRTPOdZbe48"
      },
      "source": [
        "Como se puede observar se obtuvo lo mismo que lo que anteriormente se mostró al hacer uso de la función de cada distancia. Por lo que cualquiera de estas formas es válida para el cálculo de las distancias."
      ]
    },
    {
      "cell_type": "markdown",
      "metadata": {
        "id": "ojkvbexoc9ap"
      },
      "source": [
        "## 4) Otras similitudes comunes  "
      ]
    },
    {
      "cell_type": "markdown",
      "metadata": {
        "id": "KAyoGorNdSJx"
      },
      "source": [
        "Ahora, se presentarán otras dos pseudo-distancias que son muy comunes para la ejecución del algoritmo KNN, las cuales serán útiles para conjuntos de datos en los que se quiera realizar clasificación teniendo en cuenta otro tipo de similitudes entre las unidades de análisis. \n",
        "\n",
        "Reciben el nombre de \"pseudo-distancias\" puesto que suelen no cumplir alguna de las propiedades formales para definir una métrica de distancia. Además, es de importancia resaltar que también existen otras pseudo-distancias que permitien aplicar este método a otras clases de datos de mayor complejidad como series de tiempo o datos multimedia.\n"
      ]
    },
    {
      "cell_type": "markdown",
      "metadata": {
        "id": "TKfbCCThNYGs"
      },
      "source": [
        "### **Similitud del Coseno**\n",
        "\n",
        "Esta es una medida que trabaja con vectores de variables definidas en un espacio vectorial con producto interno. Sin embargo, esta similitud se define con el coseno del ángulo formado entre dos vectores $P$ y $Q$, de tal forma la medida es independiente a la magnitud de los vectores. Dicha independencia permite que la similitud del coseno sea ampliamente usada en la minería de texto, para comparar documentos sin importar su longitud. Los vectores de características serán los conteos de las palabras dentro de cada uno de los textos.\n",
        "\n",
        "Particularmente, suele ser usada en el espacio positivo, por lo cual el resultado está claramente definidio en el intervalo $[0,1]$. Por lo general, el término de la distancia del coseno se refiere al complemento de esta, puesto que se define con la fórmula:\n",
        "\n",
        "$$D_{cos}(P,Q)=1- S_{cos}(P,Q)$$\n",
        "\n",
        "donde $S_{cos}$ corresponde a la similitud del coseno, definida a partir del producto punto como\n",
        "$$S_{cos}(P,Q) = \\frac{\\boldsymbol{P}· \\boldsymbol{Q}}{||\\boldsymbol{P}||||\\boldsymbol{Q}||} =\\frac{\\sum^n_{i=1}p_iq_i}{\\sqrt{\\sum^n_{i=1}p_i^2} \\sqrt{\\sum^n_{i=1}q_i^2}}$$\n",
        "\n",
        "Sin embargo, esta distancia no cumple con la propiedad de la desigualdad triangular.\n",
        "\n",
        "Fuente: [wiki](https://hmong.es/wiki/Cosine_similarity)"
      ]
    },
    {
      "cell_type": "markdown",
      "metadata": {
        "id": "M8lgg0mzqDYs"
      },
      "source": [
        "###### **Aplicación en Python**\n"
      ]
    },
    {
      "cell_type": "code",
      "execution_count": null,
      "metadata": {
        "id": "iLmK1c0jqFaR"
      },
      "outputs": [],
      "source": [
        "import pandas as pd\n",
        "import numpy as np\n",
        "from sklearn.preprocessing import Normalizer"
      ]
    },
    {
      "cell_type": "code",
      "execution_count": null,
      "metadata": {
        "id": "2G-7r75VrQzv"
      },
      "outputs": [],
      "source": [
        "cosi = pd.DataFrame(\n",
        "    [['C',1.0,2.0],\n",
        "     ['D',4.5,2.5],\n",
        "     ['Q',2.0,1.5]],\n",
        "    columns=['Ex','X1','X2'])\n",
        "\n",
        "cosi = cosi.set_index('Ex')\n",
        "cosi_n = cosi.copy()\n",
        "cosi_n.iloc[:,:] = Normalizer(norm='l2').fit_transform(cosi)"
      ]
    },
    {
      "cell_type": "code",
      "execution_count": null,
      "metadata": {
        "colab": {
          "base_uri": "https://localhost:8080/"
        },
        "id": "OngSjaSyrU_e",
        "outputId": "03ec6bd4-77fb-4307-ec07-5f919be532b6"
      },
      "outputs": [
        {
          "data": {
            "text/plain": [
              "Text(2.2, 1.5, 'Q')"
            ]
          },
          "execution_count": 12,
          "metadata": {},
          "output_type": "execute_result"
        },
        {
          "data": {
            "image/png": "[encoded data removed]",
            "text/plain": [
              "<Figure size 360x216 with 1 Axes>"
            ]
          },
          "metadata": {},
          "output_type": "display_data"
        }
      ],
      "source": [
        "%matplotlib inline\n",
        "pl = cosi_n.plot.scatter('X1','X2',figsize=(5,3))\n",
        "pl.set_xlim(0,5)\n",
        "pl.set_ylim(0,3)\n",
        "c1, c2 = [0,1], [0,2]\n",
        "d1, d2 = [0,4.5], [0,2.5]\n",
        "q1, q2 = [0,2], [0,1.5]\n",
        "pl.plot(c1,c2,d1,d2,q1,q2, marker = 'o', markersize = 10,linewidth = 2)\n",
        "pl.text(1.2,2, 'C', fontsize=12)\n",
        "pl.text(4.7,2.3, 'D', fontsize=12)\n",
        "pl.text(2.2,1.5, 'Q', fontsize=12)"
      ]
    },
    {
      "cell_type": "markdown",
      "metadata": {
        "id": "gV-r0pi85Cpl"
      },
      "source": [
        "### **Similitud de la Correlación**\n",
        "\n",
        "La construcción de esta distancia es muy parecida a la hecha para definir la distancia del coseno. Puesto que, de forma similar, cuando se habla de la distancia de correlación se hace referencia al complemento de la similitud de correlación entre dos vectores $P$ y $Q$, los cuales corresponderán a las unidades de análisis en la clasificación. Es decir, la distancia de la correlación se define como:\n",
        "\n",
        "$$D_{corr}(P,Q)=1- S_{corr}(P,Q)$$\n",
        "\n",
        "donde $S_{corr}$, en realidad, corresponderá a un coeficiente de correlación. Comúnmente se utiliza o el coeficiente de Pearson, utilizado para variables normalmente distribuidas, o el coeficiente de Spearman, para variables que no tienen distribución normal y por lo tanto se basa en los rangos de los valores.\n",
        "Si usamos el coeficiente de correlación de Pearson $r(P,Q)$, donde $P$ y $Q$ son vistos como las \"variables\" en esta medida, entonces se tiene que: \n",
        "\n",
        "$$S_{corr}(P,Q) = r(P,Q) = \\frac{\\sum^n_{i=1}(p_i-\\bar{p})(q_i-\\bar{q})}{(n-1)s_ps_q}$$\n",
        "\n",
        "Con $\\bar{p}$ y $s_p$ como la media y desviación estándar de los valores en el vector $P$. Este ajuste por la media hace que la similitud sea invariante a cambios de escala entre las características del vector, por lo cual, su aplicación es muy común en contextos donde las características reflejan la asignación de recursos, por ejemplo, el gasto de hogares en distintos productos y servicios."
      ]
    },
    {
      "cell_type": "code",
      "execution_count": null,
      "metadata": {
        "colab": {
          "base_uri": "https://localhost:8080/"
        },
        "id": "g3NJb5dxr7Wy",
        "outputId": "dbbc0f0b-c2db-4e0c-fd4d-dccaa6c9e573"
      },
      "outputs": [
        {
          "data": {
            "text/plain": [
              "Text(0.5, 9.2, 'B')"
            ]
          },
          "execution_count": 13,
          "metadata": {},
          "output_type": "execute_result"
        },
        {
          "data": {
            "image/png": "[encoded data removed]",
            "text/plain": [
              "<Figure size 432x288 with 1 Axes>"
            ]
          },
          "metadata": {},
          "output_type": "display_data"
        }
      ],
      "source": [
        "cols = ['Ex','X0','X1','X2','X3','X4','X5','X6','X7','X8','X9']\n",
        "cd = [['A',3,4,5,5,4,3,2,3,4,3],\n",
        "      ['B',9,9,8,8,9,10,10,9,8,9],\n",
        "      ['Q',8,8,9,9,8,7,7,8,9,8]]\n",
        "corr = pd.DataFrame(cd, columns = cols)\n",
        "corr = corr.set_index('Ex')\n",
        "corr\n",
        "%matplotlib inline\n",
        "pl = corr.T.plot(linewidth=2,legend = False)\n",
        "pl.set_xlabel('Feature',fontsize = 12)\n",
        "pl.set_ylabel('Value',fontsize = 12)\n",
        "pl.text(0.5,3, 'A', fontsize=12)\n",
        "pl.text(0.5,7.5, 'Q', fontsize=12)\n",
        "pl.text(0.5,9.2, 'B', fontsize=12)"
      ]
    },
    {
      "cell_type": "markdown",
      "metadata": {
        "id": "V9F0V0YNdUva"
      },
      "source": [
        "## 5) Ejemplos de aplicación "
      ]
    },
    {
      "cell_type": "markdown",
      "metadata": {
        "id": "oXTlGfphdbSI"
      },
      "source": [
        "\n",
        "### 5.1) Clásica: \n",
        "Definir bien los métodos en Scikit learn. Especificar que se usa el algoritmo de fuerza bruta, explicando de manera sencilla que es.\n"
      ]
    },
    {
      "cell_type": "markdown",
      "metadata": {
        "id": "FTahrM8pP6R8"
      },
      "source": [
        "Librerías necesarias:"
      ]
    },
    {
      "cell_type": "code",
      "execution_count": null,
      "metadata": {
        "id": "8iU-FphJP5T4"
      },
      "outputs": [],
      "source": [
        "import pandas as pd\n",
        "import numpy as np\n",
        "from sklearn import preprocessing\n",
        "import sys\n",
        "\n",
        "from sklearn.neighbors import NearestNeighbors\n",
        "from sklearn.neighbors import KNeighborsClassifier\n",
        "from sklearn.model_selection import train_test_split\n",
        "from sklearn.metrics import accuracy_score\n",
        "from sklearn.model_selection import cross_val_score\n",
        "import matplotlib.lines as mlines"
      ]
    },
    {
      "cell_type": "code",
      "execution_count": null,
      "metadata": {
        "colab": {
          "base_uri": "https://localhost:8080/"
        },
        "id": "3sh3Ge_9qTGV",
        "outputId": "dc504688-39dc-42ba-a5fa-ee11b02d7966"
      },
      "outputs": [
        {
          "output_type": "stream",
          "name": "stdout",
          "text": [
            "Mounted at /content/drive\n"
          ]
        }
      ],
      "source": [
        "from google.colab import drive\n",
        "drive.mount('/content/drive')"
      ]
    },
    {
      "cell_type": "code",
      "execution_count": null,
      "metadata": {
        "colab": {
          "base_uri": "https://localhost:8080/"
        },
        "id": "wH2VBEz_qqYL",
        "outputId": "b6d7d43a-f4a5-410e-9782-3fe1d807f9cc"
      },
      "outputs": [
        {
          "output_type": "execute_result",
          "data": {
            "text/plain": [
              "((1599, 11), (1599,))"
            ]
          },
          "metadata": {},
          "execution_count": 4
        }
      ],
      "source": [
        "# Importación de la base\n",
        "wine = pd.read_csv(\"/content/drive/Shareddrives/Mineria/vino.csv\", sep=';', header=0)\n",
        "wine.head()\n",
        "# Clasificación real\n",
        "y = wine.pop('quality').values\n",
        "# Frecuencia de las palabras\n",
        "X = wine.values\n",
        "X.shape, y.shape"
      ]
    },
    {
      "cell_type": "code",
      "source": [
        "f_min = sys.maxsize\n",
        "f_max = 0\n",
        "for i in range(X.shape[1]):\n",
        "    if X[i].mean() < f_min:\n",
        "        f_min = X[i].mean()\n",
        "    if X[i].mean() > f_max:\n",
        "        f_max = X[i].mean()\n",
        "print(\"Smallest Mean: {0:.2f}\".format(f_min)) \n",
        "print(\"Largest Mean: {0:.2f}\".format(f_max)) "
      ],
      "metadata": {
        "colab": {
          "base_uri": "https://localhost:8080/"
        },
        "id": "0ObDMz82xGHD",
        "outputId": "5975190d-3f46-4b10-b781-778c60dd9649"
      },
      "execution_count": null,
      "outputs": [
        {
          "output_type": "stream",
          "name": "stdout",
          "text": [
            "Smallest Mean: 4.72\n",
            "Largest Mean: 13.56\n"
          ]
        }
      ]
    },
    {
      "cell_type": "code",
      "source": [
        "X_train, X_test, y_train, y_test = train_test_split(X, y, test_size=1/3)\n",
        "X_train.shape, X_test.shape"
      ],
      "metadata": {
        "colab": {
          "base_uri": "https://localhost:8080/"
        },
        "id": "0hr7Hfaixz4W",
        "outputId": "0964efbe-b171-466b-f497-d05a9571a529"
      },
      "execution_count": null,
      "outputs": [
        {
          "output_type": "execute_result",
          "data": {
            "text/plain": [
              "((1066, 11), (533, 11))"
            ]
          },
          "metadata": {},
          "execution_count": 6
        }
      ]
    },
    {
      "cell_type": "code",
      "source": [
        "kNN = KNeighborsClassifier(n_neighbors = 3)\n",
        "kNN = kNN.fit(X_train,y_train)\n",
        "y_dash = kNN.predict(X_test)\n",
        "accuracy_score(y_test, y_dash)"
      ],
      "metadata": {
        "colab": {
          "base_uri": "https://localhost:8080/"
        },
        "id": "GL0qHwAixGZI",
        "outputId": "5b6314bc-7081-44d6-8f91-4c1cf239a768"
      },
      "execution_count": null,
      "outputs": [
        {
          "output_type": "execute_result",
          "data": {
            "text/plain": [
              "0.5234521575984991"
            ]
          },
          "metadata": {},
          "execution_count": 7
        }
      ]
    },
    {
      "cell_type": "code",
      "source": [
        "print(y_test[:35])\n",
        "print(y_dash[:35])"
      ],
      "metadata": {
        "colab": {
          "base_uri": "https://localhost:8080/"
        },
        "id": "h8IZzx2rxvBv",
        "outputId": "0b4d98d3-2b81-4d26-888c-a454ef8999b2"
      },
      "execution_count": null,
      "outputs": [
        {
          "output_type": "stream",
          "name": "stdout",
          "text": [
            "[5 5 5 5 7 6 5 5 6 5 7 5 5 5 5 6 6 5 5 6 6 6 6 7 5 6 6 4 6 6 6 7 5 6 5]\n",
            "[5 5 5 5 6 6 6 6 7 5 6 5 5 5 5 6 5 5 5 6 6 7 5 7 5 7 6 6 6 6 5 6 6 5 6]\n"
          ]
        }
      ]
    },
    {
      "cell_type": "code",
      "source": [],
      "metadata": {
        "id": "xNu5zRmUxvI3"
      },
      "execution_count": null,
      "outputs": []
    },
    {
      "cell_type": "markdown",
      "metadata": {
        "id": "OET-rfNg_ktz"
      },
      "source": [
        "### 5.2) Coseno:\n",
        "\n",
        "Para ilustrar la aplicación de este medida de similitud se seleccionó el conjunto de datos CNAE-9 tomado del respositorio de bases de datos para machine learning [UCI](https://archive.ics.uci.edu/ml/datasets/cnae-9). Este conjunto de datos contiene 1.080 documentos de descripciones de negocios en texto libre de empresas brasileñas categorizadas en 9 categorías catalogadas en una tabla llamada Clasificación Nacional de Actividades Económicas (CNAE). Los textos originales fueron preprocesados para obtener el conjunto de datos actual: cada documento se representó como un vector, donde el peso de cada palabra es su frecuencia en el documento. Es necesario aclarar que este conjunto de datos es muy escaso (el 99,22% de la matriz está llena de ceros)."
      ]
    },
    {
      "cell_type": "code",
      "execution_count": null,
      "metadata": {
        "colab": {
          "base_uri": "https://localhost:8080/"
        },
        "id": "JxW7fLBaztd1",
        "outputId": "fb8c4bc6-3fde-498f-c9a5-ab1c11bc6c24"
      },
      "outputs": [
        {
          "output_type": "execute_result",
          "data": {
            "text/plain": [
              "((1080, 856), (1080,))"
            ]
          },
          "metadata": {},
          "execution_count": 9
        }
      ],
      "source": [
        "# Importación de la base\n",
        "cosi = pd.read_csv('/content/drive/Shareddrives/Mineria/CNAE-9.data', header = None)\n",
        "# Clasificación real\n",
        "y = cosi.pop(0).values\n",
        "# Frecuencia de las palabras\n",
        "X = cosi.values\n",
        "X.shape, y.shape"
      ]
    },
    {
      "cell_type": "markdown",
      "metadata": {
        "id": "99xV8pg_IMQN"
      },
      "source": [
        "La escazes en la base de datos se puede apreciar a través de las siguientes estadísticas descriptivas aplicadas al conjunto de todas las frecuencias de palabras en todos los textos. "
      ]
    },
    {
      "cell_type": "code",
      "execution_count": null,
      "metadata": {
        "colab": {
          "base_uri": "https://localhost:8080/"
        },
        "id": "JKqRnmqKK2zG",
        "outputId": "1d2f65f9-fc0d-4d3c-9776-4a1bdda395c0"
      },
      "outputs": [
        {
          "name": "stdout",
          "output_type": "stream",
          "text": [
            "Media: 0.0082, Desv. Estándar: 0.0948, Mín: 0, Máx: 4\n"
          ]
        }
      ],
      "source": [
        "media = X.mean()\n",
        "std = X.std(ddof=0)\n",
        "min = X.min()\n",
        "max = X.max()\n",
        "print(f\"Media: {round(media,4)}, Desv. Estándar: {round(std,4)}, Mín: {min}, Máx: {max}\")"
      ]
    },
    {
      "cell_type": "markdown",
      "metadata": {
        "id": "GRNG-3OUOewj"
      },
      "source": [
        "Ahora procedemos a comparar el desempeño de las métricas euclidianas y de coseno para la clasificación de vecimos más cercanos, Instanciamos los dos métodos con sus respectivas medidas. "
      ]
    },
    {
      "cell_type": "code",
      "execution_count": null,
      "metadata": {
        "id": "keyCUq019Vvz"
      },
      "outputs": [],
      "source": [
        "NN_e = KNeighborsClassifier(metric = 'euclidean')\n",
        "NN_c = KNeighborsClassifier(metric = 'cosine')"
      ]
    },
    {
      "cell_type": "markdown",
      "metadata": {
        "id": "n4ImsyEl0QmG"
      },
      "source": [
        "Ahora se calcula una estimación de la precisión con ambos clasificadores usando validación cruzada con 10 folds. Se puede apreciar que usar la clasificación de KNN con la similaridad del coseno mejora significativamente la precisión en la clasificación de los textos."
      ]
    },
    {
      "cell_type": "code",
      "execution_count": null,
      "metadata": {
        "colab": {
          "base_uri": "https://localhost:8080/"
        },
        "id": "tRpktV3x9dZX",
        "outputId": "4cf51eed-45ae-4607-d387-6dbfbfc6f51a"
      },
      "outputs": [
        {
          "name": "stdout",
          "output_type": "stream",
          "text": [
            "Precisión con C.V. (Distancia Euclidiana): 0.86\n",
            "Precisión con C.V. (Similaridad Coseno): 0.92\n"
          ]
        }
      ],
      "source": [
        "scores = cross_val_score(NN_e, X, y, cv=10)\n",
        "print(\"Precisión con C.V. (Distancia Euclidiana): {0:.2f}\".format(scores.mean())) \n",
        "scores = cross_val_score(NN_c, X, y, cv=10)\n",
        "print(\"Precisión con C.V. (Similaridad Coseno): {0:.2f}\".format(scores.mean())) "
      ]
    },
    {
      "cell_type": "markdown",
      "metadata": {
        "id": "LDuuwgLrPsVc"
      },
      "source": [
        "### 5.3) Correlación:"
      ]
    },
    {
      "cell_type": "code",
      "execution_count": null,
      "metadata": {
        "colab": {
          "base_uri": "https://localhost:8080/"
        },
        "id": "9AzGDYPqChaH",
        "outputId": "7b6cc718-223a-4882-cba2-8e27039d64a1"
      },
      "outputs": [
        {
          "output_type": "stream",
          "name": "stdout",
          "text": [
            "<class 'pandas.core.frame.DataFrame'>\n",
            "RangeIndex: 699 entries, 0 to 698\n",
            "Data columns (total 11 columns):\n",
            " #   Column  Non-Null Count  Dtype \n",
            "---  ------  --------------  ----- \n",
            " 0   0       699 non-null    int64 \n",
            " 1   1       699 non-null    int64 \n",
            " 2   2       699 non-null    int64 \n",
            " 3   3       699 non-null    int64 \n",
            " 4   4       699 non-null    int64 \n",
            " 5   5       699 non-null    int64 \n",
            " 6   6       699 non-null    object\n",
            " 7   7       699 non-null    int64 \n",
            " 8   8       699 non-null    int64 \n",
            " 9   9       699 non-null    int64 \n",
            " 10  10      699 non-null    int64 \n",
            "dtypes: int64(10), object(1)\n",
            "memory usage: 60.2+ KB\n"
          ]
        }
      ],
      "source": [
        "corr = pd.read_csv('/content/drive/Shareddrives/Mineria/breast-cancer-wisconsin.data', header = None)\n",
        "corr.info()"
      ]
    },
    {
      "cell_type": "code",
      "execution_count": null,
      "metadata": {
        "colab": {
          "base_uri": "https://localhost:8080/"
        },
        "id": "nJAWxVFzAEjP",
        "outputId": "eab52ddc-3de8-4d74-b9b0-4eec6486ad87"
      },
      "outputs": [
        {
          "output_type": "stream",
          "name": "stdout",
          "text": [
            "                1           2           3           4           5           6  \\\n",
            "count  683.000000  683.000000  683.000000  683.000000  683.000000  683.000000   \n",
            "mean     4.442167    3.150805    3.215227    2.830161    3.234261    3.544656   \n",
            "std      2.820761    3.065145    2.988581    2.864562    2.223085    3.643857   \n",
            "min      1.000000    1.000000    1.000000    1.000000    1.000000    1.000000   \n",
            "25%      2.000000    1.000000    1.000000    1.000000    2.000000    1.000000   \n",
            "50%      4.000000    1.000000    1.000000    1.000000    2.000000    1.000000   \n",
            "75%      6.000000    5.000000    5.000000    4.000000    4.000000    6.000000   \n",
            "max     10.000000   10.000000   10.000000   10.000000   10.000000   10.000000   \n",
            "\n",
            "                7           8           9  \n",
            "count  683.000000  683.000000  683.000000  \n",
            "mean     3.445095    2.869693    1.603221  \n",
            "std      2.449697    3.052666    1.732674  \n",
            "min      1.000000    1.000000    1.000000  \n",
            "25%      2.000000    1.000000    1.000000  \n",
            "50%      3.000000    1.000000    1.000000  \n",
            "75%      5.000000    4.000000    1.000000  \n",
            "max     10.000000   10.000000   10.000000  \n"
          ]
        },
        {
          "output_type": "stream",
          "name": "stderr",
          "text": [
            "/usr/local/lib/python3.7/dist-packages/ipykernel_launcher.py:2: SettingWithCopyWarning: \n",
            "A value is trying to be set on a copy of a slice from a DataFrame.\n",
            "Try using .loc[row_indexer,col_indexer] = value instead\n",
            "\n",
            "See the caveats in the documentation: https://pandas.pydata.org/pandas-docs/stable/user_guide/indexing.html#returning-a-view-versus-a-copy\n",
            "  \n"
          ]
        }
      ],
      "source": [
        "corr1 = corr[corr[6] != \"?\"]\n",
        "corr1[6]=corr1[6].astype(\"int\")\n",
        "y = corr1.pop(10).values\n",
        "corr1.pop(0)\n",
        "print(corr1.describe())"
      ]
    },
    {
      "cell_type": "code",
      "execution_count": null,
      "metadata": {
        "colab": {
          "base_uri": "https://localhost:8080/"
        },
        "id": "32uMc2AZ_LcG",
        "outputId": "3e517694-c0a6-4e13-8987-9666fd6ff2a6"
      },
      "outputs": [
        {
          "output_type": "execute_result",
          "data": {
            "text/plain": [
              "((683, 9), (683,))"
            ]
          },
          "metadata": {},
          "execution_count": 12
        }
      ],
      "source": [
        "X = corr1.values\n",
        "X.shape, y.shape"
      ]
    },
    {
      "cell_type": "code",
      "execution_count": null,
      "metadata": {
        "id": "8FS90qqs5jvW"
      },
      "outputs": [],
      "source": [
        "NN_e = KNeighborsClassifier(metric = 'euclidean')\n",
        "NN_corr = KNeighborsClassifier(metric = 'correlation')"
      ]
    },
    {
      "cell_type": "code",
      "execution_count": null,
      "metadata": {
        "colab": {
          "base_uri": "https://localhost:8080/"
        },
        "id": "HEgGM5c_6fW5",
        "outputId": "edae972a-1b4e-40fa-c43d-912a17e04cf7"
      },
      "outputs": [
        {
          "output_type": "stream",
          "name": "stdout",
          "text": [
            "Precisión con C.V. (Distancia Euclidiana): 0.97\n",
            "Precisión con C.V. (Similaridad Correlación): 0.91\n"
          ]
        }
      ],
      "source": [
        "scores = cross_val_score(NN_e, X, y, cv=7)\n",
        "print(\"Precisión con C.V. (Distancia Euclidiana): {0:.2f}\".format(scores.mean())) \n",
        "scores = cross_val_score(NN_corr, X, y, cv=7)\n",
        "print(\"Precisión con C.V. (Similaridad Correlación): {0:.2f}\".format(scores.mean())) "
      ]
    },
    {
      "cell_type": "code",
      "execution_count": null,
      "metadata": {
        "colab": {
          "base_uri": "https://localhost:8080/"
        },
        "id": "uSMi9F4lHQTp",
        "outputId": "3d3b47a1-c778-4cf0-cea2-53a818517077"
      },
      "outputs": [
        {
          "output_type": "stream",
          "name": "stdout",
          "text": [
            "<class 'pandas.core.frame.DataFrame'>\n",
            "RangeIndex: 214 entries, 0 to 213\n",
            "Data columns (total 11 columns):\n",
            " #   Column  Non-Null Count  Dtype  \n",
            "---  ------  --------------  -----  \n",
            " 0   0       214 non-null    int64  \n",
            " 1   1       214 non-null    float64\n",
            " 2   2       214 non-null    float64\n",
            " 3   3       214 non-null    float64\n",
            " 4   4       214 non-null    float64\n",
            " 5   5       214 non-null    float64\n",
            " 6   6       214 non-null    float64\n",
            " 7   7       214 non-null    float64\n",
            " 8   8       214 non-null    float64\n",
            " 9   9       214 non-null    float64\n",
            " 10  10      214 non-null    int64  \n",
            "dtypes: float64(9), int64(2)\n",
            "memory usage: 18.5 KB\n"
          ]
        },
        {
          "output_type": "execute_result",
          "data": {
            "text/plain": [
              "((214, 9), (214,))"
            ]
          },
          "metadata": {},
          "execution_count": 15
        }
      ],
      "source": [
        "glass = pd.read_csv(\"/content/drive/Shareddrives/Mineria/glass.data\", header = None)\n",
        "glass.info()\n",
        "# Clasificación real\n",
        "y = glass.pop(10).values\n",
        "glass.pop(0)\n",
        "# Frecuencia de las palabras\n",
        "X = glass.values\n",
        "X.shape, y.shape"
      ]
    },
    {
      "cell_type": "code",
      "source": [
        "scores = cross_val_score(NN_e, X, y, cv=7)\n",
        "print(\"Precisión con C.V. (Distancia Euclidiana): {0:.2f}\".format(scores.mean())) \n",
        "scores = cross_val_score(NN_corr, X, y, cv=7)\n",
        "print(\"Precisión con C.V. (Similaridad Correlación): {0:.2f}\".format(scores.mean())) "
      ],
      "metadata": {
        "colab": {
          "base_uri": "https://localhost:8080/"
        },
        "id": "tTIBz4FAstNe",
        "outputId": "6923abcf-fff4-4781-9f25-fca568d02a84"
      },
      "execution_count": null,
      "outputs": [
        {
          "output_type": "stream",
          "name": "stdout",
          "text": [
            "Precisión con C.V. (Distancia Euclidiana): 0.61\n",
            "Precisión con C.V. (Similaridad Correlación): 0.63\n"
          ]
        }
      ]
    },
    {
      "cell_type": "markdown",
      "metadata": {
        "id": "ho2-a5_pdp_D"
      },
      "source": [
        "## 6) Algoritmos de optimización del método "
      ]
    },
    {
      "cell_type": "markdown",
      "metadata": {
        "id": "ykEUlm5AfIMb"
      },
      "source": [
        "### 6.1) K-D tree:\n",
        "\n",
        "En general, estas estructuras intentan reducir el número de cálculos de distancia necesarios codificando de forma eficiente la información de distancia agregada para la muestra. La idea básica es que si el punto $\\boldsymbol{A}$ es muy distante del punto $\\boldsymbol{B}$, y el punto $\\boldsymbol{B}$ está muy cerca del punto $\\boldsymbol{C}$, entonces sabemos que los puntos $\\boldsymbol{A}$ y $\\boldsymbol{C}$ son muy distantes, sin tener que calcular explícitamente su distancia. De este modo, el coste computacional de una búsqueda de vecinos más cercanos puede reducirse. Esto supone una mejora significativa respecto a la fuerza bruta para bases de datos grandes.\n",
        "\n",
        "El árbol KD es una estructura de árbol binario que particiona recursivamente el espacio de parámetros a lo largo de los ejes de datos, dividiéndolo en regiones ortotrópicas anidadas en las que se archivan los puntos de datos. La construcción de un árbol KD es muy rápida: dado que la partición se realiza sólo a lo largo de los ejes de datos, no es necesario calcular D-distancias adimensionales. Aunque el árbol KD es muy rápido en la búsqueda de los vecinos cercanos en dimensiones bajas (menores a 20), se vuelve ineficiente a medida que el número de variables incrementa "
      ]
    },
    {
      "cell_type": "markdown",
      "source": [
        "#### Ejemplo de comparación:"
      ],
      "metadata": {
        "id": "O9R8b7k_jowt"
      }
    },
    {
      "cell_type": "code",
      "source": [
        "# ejemplo con vino"
      ],
      "metadata": {
        "id": "gfczkp_odXn8"
      },
      "execution_count": null,
      "outputs": []
    },
    {
      "cell_type": "markdown",
      "metadata": {
        "id": "OGWV6VyF0Z5t"
      },
      "source": [
        "### 6.2) Ball tree:\n",
        "\n",
        "Para hacer frente a las ineficiencias de los árboles KD en dimensiones superiores, se desarrolló la estructura de datos de \"árbol de esferas\". Mientras que los árboles KD dividen los datos a lo largo de ejes cartesianos, los árboles de bolas dividen los datos en una serie de hiperesferas anidadas. Esto hace que la construcción del árbol sea más costosa que la del árbol KD, pero da como resultado una estructura de datos que puede ser muy eficiente en datos altamente estructurados, incluso en dimensiones muy altas.\n",
        "\n",
        "Un árbol de bolas divide recursivamente los datos en nodos definidos por un centroide $\\boldsymbol{C}$ y un radio $r$, de manera que cada punto del nodo se encuentra dentro de la hiperesfera definida por $r$ y $\\boldsymbol{C}$. El número de puntos candidatos para una búsqueda de vecinos se reduce mediante el uso de la desigualdad del triángulo:\n",
        "\n",
        "$$\n",
        "|x+y| \\leq |x| + |y|\n",
        "$$\n",
        "\n",
        "Con esta configuración, un único cálculo de la distancia entre un punto de prueba y el centroide es suficiente para determinar un límite inferior y superior de la distancia a todos los puntos dentro del nodo. Debido a la geometría esférica de los nodos del ball-tree, puede superar a un árbol KD en dimensiones altas, aunque el rendimiento real depende en gran medida de la estructura de los datos de entrenamiento."
      ]
    },
    {
      "cell_type": "markdown",
      "source": [
        "#### Ejemplo de comparación:\n",
        "\n",
        "A continuación se simula una base de datos para el ejercicio de clasificación aplicando los 3 distintos métodos: Fuerza bruta, KD-tree y Ball-tree. La base cuenta con 10000 muestras y se compone de 25 variables, de esas características solo 17 son informativas en cuanto a la clase a la que pertenecen cada una de las muestras."
      ],
      "metadata": {
        "id": "3QJO-b84ikbl"
      }
    },
    {
      "cell_type": "code",
      "execution_count": null,
      "metadata": {
        "id": "QWV0bvVV07j4"
      },
      "outputs": [],
      "source": [
        "from sklearn.datasets import make_classification\n",
        "# crea los datos a ser muestreados\n",
        "n_samples = 25000\n",
        "X_big,y_big = make_classification(n_samples=n_samples, n_features=25,\n",
        "n_informative=17, n_redundant=0, random_state=150, shuffle=False)"
      ]
    },
    {
      "cell_type": "markdown",
      "source": [
        "Para evaluar el tiempo de ejecución en cada uno de los algoritmos sobre los datos, se realiza una validación cruzada con 10 folds en la que se buscan los 40 vecinos más cercanos y se resta al tiempo final el tiempo en el que inició la ejecución, además se almacenan las estimaciones de la precisión del clasificador para cada método."
      ],
      "metadata": {
        "id": "oa4vXfdLj8gs"
      }
    },
    {
      "cell_type": "code",
      "execution_count": null,
      "metadata": {
        "colab": {
          "base_uri": "https://localhost:8080/"
        },
        "id": "1ThbUntH7hlV",
        "outputId": "be5fb895-56d7-45e5-b331-e3b6e3259791"
      },
      "outputs": [
        {
          "output_type": "stream",
          "name": "stdout",
          "text": [
            "Brute:  0.974 KD-tree:  0.974 Ball-tree:  0.974\n",
            "Brute:  12.7 KD-tree:  34.1 Ball-tree:  25.7\n"
          ]
        }
      ],
      "source": [
        "import time\n",
        "\n",
        "# Definición de los algoritmos\n",
        "KNN1 = KNeighborsClassifier(n_neighbors=40, algorithm=\"brute\")\n",
        "KNN2 = KNeighborsClassifier(n_neighbors=40, algorithm=\"kd_tree\")\n",
        "KNN3 = KNeighborsClassifier(n_neighbors=40, algorithm=\"ball_tree\")\n",
        "\n",
        "# Validación cruzada y tiempo de ejecución\n",
        "t_start = time.time()\n",
        "scores1 = cross_val_score(KNN1, X_big, y_big, cv=10)\n",
        "t1 = time.time()-t_start\n",
        "\n",
        "t_start = time.time()\n",
        "scores2 = cross_val_score(KNN2, X_big, y_big, cv=10)\n",
        "t2 = time.time()-t_start\n",
        "\n",
        "t_start = time.time()\n",
        "scores3 = cross_val_score(KNN3, X_big, y_big, cv=10)\n",
        "t3 = time.time()-t_start\n",
        "\n",
        "print(\"Brute: \",round(scores1.mean(),3),\"KD-tree: \",round(scores2.mean(),3),\"Ball-tree: \",round(scores3.mean(),3))\n",
        "print(\"Brute: \",round(t1,1),\"KD-tree: \",round(t2,1),\"Ball-tree: \",round(t3,1))\n"
      ]
    },
    {
      "cell_type": "markdown",
      "metadata": {
        "id": "mQwb3EBhhqh0"
      },
      "source": [
        "## 7) Ejercicio para el lector"
      ]
    },
    {
      "cell_type": "markdown",
      "metadata": {
        "id": "e_6I3tpRlrQB"
      },
      "source": [
        "### <font color= red> <b> E <font color= orange> <b> j <font color= yellow> <b> e <font color= green> <b> m <font color= blue><b>p<font color= purple> <b>l <font color= white> <b> o"
      ]
    },
    {
      "cell_type": "markdown",
      "metadata": {
        "id": "LeYXdzmzl1b5"
      },
      "source": [
        "#### Importación de las librerías"
      ]
    },
    {
      "cell_type": "code",
      "execution_count": null,
      "metadata": {
        "id": "bVfuois-lsp9"
      },
      "outputs": [],
      "source": [
        "from sklearn.model_selection import train_test_split\n",
        "from sklearn.neighbors import KNeighborsClassifier as knn\n",
        "from sklearn import metrics\n",
        "from sklearn import datasets\n",
        "import pandas as pd"
      ]
    },
    {
      "cell_type": "markdown",
      "metadata": {
        "id": "vVMXnkKcmAX4"
      },
      "source": [
        "#### Importación de los datos"
      ]
    },
    {
      "cell_type": "code",
      "execution_count": null,
      "metadata": {
        "colab": {
          "base_uri": "https://localhost:8080/",
          "height": 206
        },
        "id": "DcO9wxlAmAgh",
        "outputId": "5b4cae55-4f56-46cc-d9d2-ae5be804654f"
      },
      "outputs": [
        {
          "data": {
            "text/html": [
              "\n",
              "  <div id=\"df-4d100b22-0729-4684-a6ae-43bca6e3dd27\">\n",
              "    <div class=\"colab-df-container\">\n",
              "      <div>\n",
              "<style scoped>\n",
              "    .dataframe tbody tr th:only-of-type {\n",
              "        vertical-align: middle;\n",
              "    }\n",
              "\n",
              "    .dataframe tbody tr th {\n",
              "        vertical-align: top;\n",
              "    }\n",
              "\n",
              "    .dataframe thead th {\n",
              "        text-align: right;\n",
              "    }\n",
              "</style>\n",
              "<table border=\"1\" class=\"dataframe\">\n",
              "  <thead>\n",
              "    <tr style=\"text-align: right;\">\n",
              "      <th></th>\n",
              "      <th>Pregnancies</th>\n",
              "      <th>Glucose</th>\n",
              "      <th>BloodPressure</th>\n",
              "      <th>SkinThickness</th>\n",
              "      <th>Insulin</th>\n",
              "      <th>BMI</th>\n",
              "      <th>DiabetesPedigreeFunction</th>\n",
              "      <th>Age</th>\n",
              "      <th>Outcome</th>\n",
              "    </tr>\n",
              "  </thead>\n",
              "  <tbody>\n",
              "    <tr>\n",
              "      <th>0</th>\n",
              "      <td>6</td>\n",
              "      <td>148</td>\n",
              "      <td>72</td>\n",
              "      <td>35</td>\n",
              "      <td>0</td>\n",
              "      <td>33.6</td>\n",
              "      <td>0.627</td>\n",
              "      <td>50</td>\n",
              "      <td>1</td>\n",
              "    </tr>\n",
              "    <tr>\n",
              "      <th>1</th>\n",
              "      <td>1</td>\n",
              "      <td>85</td>\n",
              "      <td>66</td>\n",
              "      <td>29</td>\n",
              "      <td>0</td>\n",
              "      <td>26.6</td>\n",
              "      <td>0.351</td>\n",
              "      <td>31</td>\n",
              "      <td>0</td>\n",
              "    </tr>\n",
              "    <tr>\n",
              "      <th>2</th>\n",
              "      <td>8</td>\n",
              "      <td>183</td>\n",
              "      <td>64</td>\n",
              "      <td>0</td>\n",
              "      <td>0</td>\n",
              "      <td>23.3</td>\n",
              "      <td>0.672</td>\n",
              "      <td>32</td>\n",
              "      <td>1</td>\n",
              "    </tr>\n",
              "    <tr>\n",
              "      <th>3</th>\n",
              "      <td>1</td>\n",
              "      <td>89</td>\n",
              "      <td>66</td>\n",
              "      <td>23</td>\n",
              "      <td>94</td>\n",
              "      <td>28.1</td>\n",
              "      <td>0.167</td>\n",
              "      <td>21</td>\n",
              "      <td>0</td>\n",
              "    </tr>\n",
              "    <tr>\n",
              "      <th>4</th>\n",
              "      <td>0</td>\n",
              "      <td>137</td>\n",
              "      <td>40</td>\n",
              "      <td>35</td>\n",
              "      <td>168</td>\n",
              "      <td>43.1</td>\n",
              "      <td>2.288</td>\n",
              "      <td>33</td>\n",
              "      <td>1</td>\n",
              "    </tr>\n",
              "  </tbody>\n",
              "</table>\n",
              "</div>\n",
              "      <button class=\"colab-df-convert\" onclick=\"convertToInteractive('df-4d100b22-0729-4684-a6ae-43bca6e3dd27')\"\n",
              "              title=\"Convert this dataframe to an interactive table.\"\n",
              "              style=\"display:none;\">\n",
              "        \n",
              "  <svg xmlns=\"http://www.w3.org/2000/svg\" height=\"24px\"viewBox=\"0 0 24 24\"\n",
              "       width=\"24px\">\n",
              "    <path d=\"M0 0h24v24H0V0z\" fill=\"none\"/>\n",
              "    <path d=\"M18.56 5.44l.94 2.06.94-2.06 2.06-.94-2.06-.94-.94-2.06-.94 2.06-2.06.94zm-11 1L8.5 8.5l.94-2.06 2.06-.94-2.06-.94L8.5 2.5l-.94 2.06-2.06.94zm10 10l.94 2.06.94-2.06 2.06-.94-2.06-.94-.94-2.06-.94 2.06-2.06.94z\"/><path d=\"M17.41 7.96l-1.37-1.37c-.4-.4-.92-.59-1.43-.59-.52 0-1.04.2-1.43.59L10.3 9.45l-7.72 7.72c-.78.78-.78 2.05 0 2.83L4 21.41c.39.39.9.59 1.41.59.51 0 1.02-.2 1.41-.59l7.78-7.78 2.81-2.81c.8-.78.8-2.07 0-2.86zM5.41 20L4 18.59l7.72-7.72 1.47 1.35L5.41 20z\"/>\n",
              "  </svg>\n",
              "      </button>\n",
              "      \n",
              "  <style>\n",
              "    .colab-df-container {\n",
              "      display:flex;\n",
              "      flex-wrap:wrap;\n",
              "      gap: 12px;\n",
              "    }\n",
              "\n",
              "    .colab-df-convert {\n",
              "      background-color: #E8F0FE;\n",
              "      border: none;\n",
              "      border-radius: 50%;\n",
              "      cursor: pointer;\n",
              "      display: none;\n",
              "      fill: #1967D2;\n",
              "      height: 32px;\n",
              "      padding: 0 0 0 0;\n",
              "      width: 32px;\n",
              "    }\n",
              "\n",
              "    .colab-df-convert:hover {\n",
              "      background-color: #E2EBFA;\n",
              "      box-shadow: 0px 1px 2px rgba(60, 64, 67, 0.3), 0px 1px 3px 1px rgba(60, 64, 67, 0.15);\n",
              "      fill: #174EA6;\n",
              "    }\n",
              "\n",
              "    [theme=dark] .colab-df-convert {\n",
              "      background-color: #3B4455;\n",
              "      fill: #D2E3FC;\n",
              "    }\n",
              "\n",
              "    [theme=dark] .colab-df-convert:hover {\n",
              "      background-color: #434B5C;\n",
              "      box-shadow: 0px 1px 3px 1px rgba(0, 0, 0, 0.15);\n",
              "      filter: drop-shadow(0px 1px 2px rgba(0, 0, 0, 0.3));\n",
              "      fill: #FFFFFF;\n",
              "    }\n",
              "  </style>\n",
              "\n",
              "      <script>\n",
              "        const buttonEl =\n",
              "          document.querySelector('#df-4d100b22-0729-4684-a6ae-43bca6e3dd27 button.colab-df-convert');\n",
              "        buttonEl.style.display =\n",
              "          google.colab.kernel.accessAllowed ? 'block' : 'none';\n",
              "\n",
              "        async function convertToInteractive(key) {\n",
              "          const element = document.querySelector('#df-4d100b22-0729-4684-a6ae-43bca6e3dd27');\n",
              "          const dataTable =\n",
              "            await google.colab.kernel.invokeFunction('convertToInteractive',\n",
              "                                                     [key], {});\n",
              "          if (!dataTable) return;\n",
              "\n",
              "          const docLinkHtml = 'Like what you see? Visit the ' +\n",
              "            '<a target=\"_blank\" href=https://colab.research.google.com/notebooks/data_table.ipynb>data table notebook</a>'\n",
              "            + ' to learn more about interactive tables.';\n",
              "          element.innerHTML = '';\n",
              "          dataTable['output_type'] = 'display_data';\n",
              "          await google.colab.output.renderOutput(dataTable, element);\n",
              "          const docLink = document.createElement('div');\n",
              "          docLink.innerHTML = docLinkHtml;\n",
              "          element.appendChild(docLink);\n",
              "        }\n",
              "      </script>\n",
              "    </div>\n",
              "  </div>\n",
              "  "
            ],
            "text/plain": [
              "   Pregnancies  Glucose  BloodPressure  SkinThickness  Insulin   BMI  \\\n",
              "0            6      148             72             35        0  33.6   \n",
              "1            1       85             66             29        0  26.6   \n",
              "2            8      183             64              0        0  23.3   \n",
              "3            1       89             66             23       94  28.1   \n",
              "4            0      137             40             35      168  43.1   \n",
              "\n",
              "   DiabetesPedigreeFunction  Age  Outcome  \n",
              "0                     0.627   50        1  \n",
              "1                     0.351   31        0  \n",
              "2                     0.672   32        1  \n",
              "3                     0.167   21        0  \n",
              "4                     2.288   33        1  "
            ]
          },
          "execution_count": 5,
          "metadata": {},
          "output_type": "execute_result"
        }
      ],
      "source": [
        "data= pd.read_csv(\"/content/drive/Shareddrives/Mineria/diabetes.csv\", sep=\",\")\n",
        "data.head()"
      ]
    },
    {
      "cell_type": "code",
      "execution_count": null,
      "metadata": {
        "colab": {
          "base_uri": "https://localhost:8080/"
        },
        "id": "TjzyjkEIqxvr",
        "outputId": "3bb67612-a60a-4352-a93a-689a55172144"
      },
      "outputs": [
        {
          "data": {
            "text/html": [
              "<html>\n",
              "<head><meta charset=\"utf-8\" /></head>\n",
              "<body>\n",
              "    <div>            <script src=\"https://cdnjs.cloudflare.com/ajax/libs/mathjax/2.7.5/MathJax.js?config=TeX-AMS-MML_SVG\"></script><script type=\"text/javascript\">if (window.MathJax) {MathJax.Hub.Config({SVG: {font: \"STIX-Web\"}});}</script>                <script type=\"text/javascript\">window.PlotlyConfig = {MathJaxConfig: 'local'};</script>\n",
              "        <script src=\"https://cdn.plot.ly/plotly-2.8.3.min.js\"></script>                <div id=\"8b1643a5-bd18-4fde-b5c9-2ececbc02654\" class=\"plotly-graph-div\" style=\"height:525px; width:100%;\"></div>            <script type=\"text/javascript\">                                    window.PLOTLYENV=window.PLOTLYENV || {};                                    if (document.getElementById(\"8b1643a5-bd18-4fde-b5c9-2ececbc02654\")) {                    Plotly.newPlot(                        \"8b1643a5-bd18-4fde-b5c9-2ececbc02654\",                        [{\"hovertemplate\":\"Glucose=%{x}<br>BloodPressure=%{y}<br>BMI=%{z}<br>Outcome=%{marker.color}<extra></extra>\",\"legendgroup\":\"\",\"marker\":{\"color\":[1,0,1,0,1,0,1,0,1,1,0,1,0,1,1,1,1,1,0,1,0,0,1,1,1,1,1,0,0,0,0,1,0,0,0,0,0,1,1,1,0,0,0,1,0,1,0,0,1,0,0,0,0,1,0,0,1,0,0,0,0,1,0,0,1,0,1,0,0,0,1,0,1,0,0,0,0,0,1,0,0,0,0,0,1,0,0,0,1,0,0,0,0,1,0,0,0,0,0,1,1,0,0,0,0,0,0,0,0,1,1,1,0,0,1,1,1,0,0,0,1,0,0,0,1,1,0,0,1,1,1,1,1,0,0,0,0,0,0,0,0,0,0,1,0,0,0,0,0,0,0,0,1,0,1,1,0,0,0,1,0,0,0,0,1,1,0,0,0,0,1,1,0,0,0,1,0,1,0,1,0,0,0,0,0,1,1,1,1,1,0,0,1,1,0,1,0,1,1,1,0,0,0,0,0,0,1,1,0,1,0,0,0,1,1,1,1,0,1,1,1,1,0,0,0,0,0,1,0,0,1,1,0,0,0,1,1,1,1,0,0,0,1,1,0,1,0,0,0,0,0,0,0,0,1,1,0,0,0,1,0,1,0,0,1,0,1,0,0,1,1,0,0,0,0,0,1,0,0,0,1,0,0,1,1,0,0,1,0,0,0,1,1,1,0,0,1,0,1,0,1,1,0,1,0,0,1,0,1,1,0,0,1,0,1,0,0,1,0,1,0,1,1,1,0,0,1,0,1,0,0,0,1,0,0,0,0,1,1,1,0,0,0,0,0,0,0,0,0,1,0,0,0,0,0,1,1,1,0,1,1,0,0,1,0,0,1,0,0,1,1,0,0,0,0,1,0,0,1,0,0,0,0,0,0,0,1,1,1,0,0,1,0,0,1,0,0,1,0,1,1,0,1,0,1,0,1,0,1,1,0,0,0,0,1,1,0,1,0,1,0,0,0,0,1,1,0,1,0,1,0,0,0,0,0,1,0,0,0,0,1,0,0,1,1,1,0,0,1,0,0,1,0,0,0,1,0,0,1,0,0,0,0,0,0,0,0,0,1,0,0,0,0,0,0,0,1,0,0,0,1,0,0,0,1,1,0,0,0,0,0,0,0,1,0,0,0,0,1,0,0,0,1,0,0,0,1,0,0,0,1,0,0,0,0,1,1,0,0,0,0,0,0,1,0,0,0,0,0,0,0,0,0,0,0,1,0,0,0,1,1,1,1,0,0,1,1,0,0,0,0,0,0,0,0,0,0,0,0,0,1,1,0,0,0,0,0,0,0,1,0,0,0,0,0,0,0,1,0,1,1,0,0,0,1,0,1,0,1,0,1,0,1,0,0,1,0,0,1,0,0,0,0,1,1,0,1,0,0,0,0,1,1,0,1,0,0,0,1,1,0,0,0,0,0,0,0,0,0,0,1,0,0,0,0,1,0,0,1,0,0,0,1,0,0,0,1,1,1,0,0,0,0,0,0,1,0,0,0,1,0,1,1,1,1,0,1,1,0,0,0,0,0,0,0,1,1,0,1,0,0,1,0,1,0,0,0,0,0,1,0,1,0,1,0,1,1,0,0,0,0,1,1,0,0,0,1,0,1,1,0,0,1,0,0,1,1,0,0,1,0,0,1,0,0,0,0,0,0,0,1,1,1,0,0,0,0,0,0,1,1,0,0,1,0,0,1,0,1,1,1,0,0,1,1,1,0,1,0,1,0,1,0,0,0,0,1,0],\"coloraxis\":\"coloraxis\",\"symbol\":\"circle\"},\"mode\":\"markers\",\"name\":\"\",\"scene\":\"scene\",\"showlegend\":false,\"x\":[148,85,183,89,137,116,78,115,197,125,110,168,139,189,166,100,118,107,103,115,126,99,196,119,143,125,147,97,145,117,109,158,88,92,122,103,138,102,90,111,180,133,106,171,159,180,146,71,103,105,103,101,88,176,150,73,187,100,146,105,84,133,44,141,114,99,109,109,95,146,100,139,126,129,79,0,62,95,131,112,113,74,83,101,137,110,106,100,136,107,80,123,81,134,142,144,92,71,93,122,163,151,125,81,85,126,96,144,83,95,171,155,89,76,160,146,124,78,97,99,162,111,107,132,113,88,120,118,117,105,173,122,170,84,96,125,100,93,129,105,128,106,108,108,154,102,57,106,147,90,136,114,156,153,188,152,99,109,88,163,151,102,114,100,131,104,148,120,110,111,102,134,87,79,75,179,85,129,143,130,87,119,0,73,141,194,181,128,109,139,111,123,159,135,85,158,105,107,109,148,113,138,108,99,103,111,196,162,96,184,81,147,179,140,112,151,109,125,85,112,177,158,119,142,100,87,101,162,197,117,142,134,79,122,74,171,181,179,164,104,91,91,139,119,146,184,122,165,124,111,106,129,90,86,92,113,111,114,193,155,191,141,95,142,123,96,138,128,102,146,101,108,122,71,106,100,106,104,114,108,146,129,133,161,108,136,155,119,96,108,78,107,128,128,161,151,146,126,100,112,167,144,77,115,150,120,161,137,128,124,80,106,155,113,109,112,99,182,115,194,129,112,124,152,112,157,122,179,102,105,118,87,180,106,95,165,117,115,152,178,130,95,0,122,95,126,139,116,99,0,92,137,61,90,90,165,125,129,88,196,189,158,103,146,147,99,124,101,81,133,173,118,84,105,122,140,98,87,156,93,107,105,109,90,125,119,116,105,144,100,100,166,131,116,158,127,96,131,82,193,95,137,136,72,168,123,115,101,197,172,102,112,143,143,138,173,97,144,83,129,119,94,102,115,151,184,94,181,135,95,99,89,80,139,90,141,140,147,97,107,189,83,117,108,117,180,100,95,104,120,82,134,91,119,100,175,135,86,148,134,120,71,74,88,115,124,74,97,120,154,144,137,119,136,114,137,105,114,126,132,158,123,85,84,145,135,139,173,99,194,83,89,99,125,80,166,110,81,195,154,117,84,0,94,96,75,180,130,84,120,84,139,91,91,99,163,145,125,76,129,68,124,114,130,125,87,97,116,117,111,122,107,86,91,77,132,105,57,127,129,100,128,90,84,88,186,187,131,164,189,116,84,114,88,84,124,97,110,103,85,125,198,87,99,91,95,99,92,154,121,78,130,111,98,143,119,108,118,133,197,151,109,121,100,124,93,143,103,176,73,111,112,132,82,123,188,67,89,173,109,108,96,124,150,183,124,181,92,152,111,106,174,168,105,138,106,117,68,112,119,112,92,183,94,108,90,125,132,128,94,114,102,111,128,92,104,104,94,97,100,102,128,147,90,103,157,167,179,136,107,91,117,123,120,106,155,101,120,127,80,162,199,167,145,115,112,145,111,98,154,165,99,68,123,91,195,156,93,121,101,56,162,95,125,136,129,130,107,140,144,107,158,121,129,90,142,169,99,127,118,122,125,168,129,110,80,115,127,164,93,158,126,129,134,102,187,173,94,108,97,83,114,149,117,111,112,116,141,175,92,130,120,174,106,105,95,126,65,99,102,120,102,109,140,153,100,147,81,187,162,136,121,108,181,154,128,137,123,106,190,88,170,89,101,122,121,126,93],\"y\":[72,66,64,66,40,74,50,0,70,96,92,74,80,60,72,0,84,74,30,70,88,84,90,80,94,70,76,66,82,92,75,76,58,92,78,60,76,76,68,72,64,84,92,110,64,66,56,70,66,0,80,50,66,90,66,50,68,88,82,64,0,72,62,58,66,74,88,92,66,85,66,64,90,86,75,48,78,72,0,66,44,0,78,65,108,74,72,68,70,68,55,80,78,72,82,72,62,48,50,90,72,60,96,72,65,56,122,58,58,85,72,62,76,62,54,92,74,48,60,76,76,64,74,80,76,30,70,58,88,84,70,56,64,74,68,60,70,60,80,72,78,82,52,66,62,75,80,64,78,70,74,65,86,82,78,88,52,56,74,72,90,74,80,64,88,74,66,68,66,90,82,70,0,60,64,72,78,110,78,82,80,64,74,60,74,68,68,98,76,80,62,70,66,0,55,84,58,62,64,60,80,82,68,70,72,72,76,104,64,84,60,85,95,65,82,70,62,68,74,66,60,90,0,60,66,78,76,52,70,80,86,80,80,68,68,72,84,90,84,76,64,70,54,50,76,85,68,90,70,86,52,84,80,68,62,64,56,68,50,76,68,0,70,80,62,74,0,64,52,0,86,62,78,78,70,70,60,64,74,62,70,76,88,86,80,74,84,86,56,72,88,62,78,48,50,62,70,84,78,72,0,58,82,98,76,76,68,68,68,68,66,70,74,50,80,68,80,74,66,78,60,74,70,90,75,72,64,70,86,70,72,58,0,80,60,76,0,76,78,84,70,74,68,86,72,88,46,0,62,80,80,84,82,62,78,88,50,0,74,76,64,70,108,78,74,54,72,64,86,102,82,64,64,58,52,82,82,60,75,100,72,68,60,62,70,54,74,100,82,68,66,76,64,72,78,58,56,66,70,70,64,61,84,78,64,48,72,62,74,68,90,72,84,74,60,84,68,82,68,64,88,68,64,64,78,78,0,64,94,82,0,74,74,75,68,0,85,75,70,88,104,66,64,70,62,78,72,80,64,74,64,70,68,0,54,62,54,68,84,74,72,62,70,78,98,56,52,64,0,78,82,70,66,90,64,84,80,76,74,86,70,88,58,82,0,68,62,78,72,80,65,90,68,70,0,74,68,72,70,74,90,72,68,64,78,82,90,60,50,78,72,62,68,62,54,70,88,86,60,90,70,80,0,70,58,60,64,74,66,65,60,76,66,0,56,0,90,60,80,92,74,72,85,90,78,90,76,68,82,110,70,68,88,62,64,70,70,76,68,74,76,66,68,60,80,54,72,62,72,66,70,96,58,60,86,44,44,80,68,70,90,60,78,76,76,56,66,66,86,0,84,78,80,52,72,82,76,24,74,38,88,0,74,78,0,60,78,62,82,62,54,58,88,80,74,72,96,62,82,0,86,76,94,70,64,88,68,78,80,65,64,78,60,82,62,72,74,76,76,74,86,70,80,0,72,74,74,50,84,60,54,60,74,54,70,52,58,80,106,82,84,76,106,80,60,80,82,70,58,78,68,58,106,100,82,70,86,60,52,58,56,76,64,80,82,74,64,50,74,82,80,114,70,68,60,90,74,0,88,70,76,78,88,0,76,80,0,46,78,64,64,78,62,58,74,50,78,72,60,76,86,66,68,86,94,78,78,84,88,52,78,86,88,56,75,60,86,72,60,74,80,44,58,94,88,84,94,74,70,62,70,78,62,88,78,88,90,72,76,92,58,74,62,76,70,72,60,70],\"z\":[33.6,26.6,23.3,28.1,43.1,25.6,31.0,35.3,30.5,0.0,37.6,38.0,27.1,30.1,25.8,30.0,45.8,29.6,43.3,34.6,39.3,35.4,39.8,29.0,36.6,31.1,39.4,23.2,22.2,34.1,36.0,31.6,24.8,19.9,27.6,24.0,33.2,32.9,38.2,37.1,34.0,40.2,22.7,45.4,27.4,42.0,29.7,28.0,39.1,0.0,19.4,24.2,24.4,33.7,34.7,23.0,37.7,46.8,40.5,41.5,0.0,32.9,25.0,25.4,32.8,29.0,32.5,42.7,19.6,28.9,32.9,28.6,43.4,35.1,32.0,24.7,32.6,37.7,43.2,25.0,22.4,0.0,29.3,24.6,48.8,32.4,36.6,38.5,37.1,26.5,19.1,32.0,46.7,23.8,24.7,33.9,31.6,20.4,28.7,49.7,39.0,26.1,22.5,26.6,39.6,28.7,22.4,29.5,34.3,37.4,33.3,34.0,31.2,34.0,30.5,31.2,34.0,33.7,28.2,23.2,53.2,34.2,33.6,26.8,33.3,55.0,42.9,33.3,34.5,27.9,29.7,33.3,34.5,38.3,21.1,33.8,30.8,28.7,31.2,36.9,21.1,39.5,32.5,32.4,32.8,0.0,32.8,30.5,33.7,27.3,37.4,21.9,34.3,40.6,47.9,50.0,24.6,25.2,29.0,40.9,29.7,37.2,44.2,29.7,31.6,29.9,32.5,29.6,31.9,28.4,30.8,35.4,28.9,43.5,29.7,32.7,31.2,67.1,45.0,39.1,23.2,34.9,27.7,26.8,27.6,35.9,30.1,32.0,27.9,31.6,22.6,33.1,30.4,52.3,24.4,39.4,24.3,22.9,34.8,30.9,31.0,40.1,27.3,20.4,37.7,23.9,37.5,37.7,33.2,35.5,27.7,42.8,34.2,42.6,34.2,41.8,35.8,30.0,29.0,37.8,34.6,31.6,25.2,28.8,23.6,34.6,35.7,37.2,36.7,45.2,44.0,46.2,25.4,35.0,29.7,43.6,35.9,44.1,30.8,18.4,29.2,33.1,25.6,27.1,38.2,30.0,31.2,52.3,35.4,30.1,31.2,28.0,24.4,35.8,27.6,33.6,30.1,28.7,25.9,33.3,30.9,30.0,32.1,32.4,32.0,33.6,36.3,40.0,25.1,27.5,45.6,25.2,23.0,33.2,34.2,40.5,26.5,27.8,24.9,25.3,37.9,35.9,32.4,30.4,27.0,26.0,38.7,45.6,20.8,36.1,36.9,36.6,43.3,40.5,21.9,35.5,28.0,30.7,36.6,23.6,32.3,31.6,35.8,52.9,21.0,39.7,25.5,24.8,30.5,32.9,26.2,39.4,26.6,29.5,35.9,34.1,19.3,30.5,38.1,23.5,27.5,31.6,27.4,26.8,35.7,25.6,35.1,35.1,45.5,30.8,23.1,32.7,43.3,23.6,23.9,47.9,33.8,31.2,34.2,39.9,25.9,25.9,32.0,34.7,36.8,38.5,28.7,23.5,21.8,41.0,42.2,31.2,34.4,27.2,42.7,30.4,33.3,39.9,35.3,36.5,31.2,29.8,39.2,38.5,34.9,34.0,27.6,21.0,27.5,32.8,38.4,0.0,35.8,34.9,36.2,39.2,25.2,37.2,48.3,43.4,30.8,20.0,25.4,25.1,24.3,22.3,32.3,43.3,32.0,31.6,32.0,45.7,23.7,22.1,32.9,27.7,24.7,34.3,21.1,34.9,32.0,24.2,35.0,31.6,32.9,42.1,28.9,21.9,25.9,42.4,35.7,34.4,42.4,26.2,34.6,35.7,27.2,38.5,18.2,26.4,45.3,26.0,40.6,30.8,42.9,37.0,0.0,34.1,40.6,35.0,22.2,30.4,30.0,25.6,24.5,42.4,37.4,29.9,18.2,36.8,34.3,32.2,33.2,30.5,29.7,59.4,25.3,36.5,33.6,30.5,21.2,28.9,39.9,19.6,37.8,33.6,26.7,30.2,37.6,25.9,20.8,21.8,35.3,27.6,24.0,21.8,27.8,36.8,30.0,46.1,41.3,33.2,38.8,29.9,28.9,27.3,33.7,23.8,25.9,28.0,35.5,35.2,27.8,38.2,44.2,42.3,40.7,46.5,25.6,26.1,36.8,33.5,32.8,28.9,0.0,26.6,26.0,30.1,25.1,29.3,25.2,37.2,39.0,33.3,37.3,33.3,36.5,28.6,30.4,25.0,29.7,22.1,24.2,27.3,25.6,31.6,30.3,37.6,32.8,19.6,25.0,33.2,0.0,34.2,31.6,21.8,18.2,26.3,30.8,24.6,29.8,45.3,41.3,29.8,33.3,32.9,29.6,21.7,36.3,36.4,39.4,32.4,34.9,39.5,32.0,34.5,43.6,33.1,32.8,28.5,27.4,31.9,27.8,29.9,36.9,25.5,38.1,27.8,46.2,30.1,33.8,41.3,37.6,26.9,32.4,26.1,38.6,32.0,31.3,34.3,32.5,22.6,29.5,34.7,30.1,35.5,24.0,42.9,27.0,34.7,42.1,25.0,26.5,38.7,28.7,22.5,34.9,24.3,33.3,21.1,46.8,39.4,34.4,28.5,33.6,32.0,45.3,27.8,36.8,23.1,27.1,23.7,27.8,35.2,28.4,35.8,40.0,19.5,41.5,24.0,30.9,32.9,38.2,32.5,36.1,25.8,28.7,20.1,28.2,32.4,38.4,24.2,40.8,43.5,30.8,37.7,24.7,32.4,34.6,24.7,27.4,34.5,26.2,27.5,25.9,31.2,28.8,31.6,40.9,19.5,29.3,34.3,29.5,28.0,27.6,39.4,23.4,37.8,28.3,26.4,25.2,33.8,34.1,26.8,34.2,38.7,21.8,38.9,39.0,34.2,27.7,42.9,37.6,37.9,33.7,34.8,32.5,27.5,34.0,30.9,33.6,25.4,35.5,57.3,35.6,30.9,24.8,35.3,36.0,24.2,24.2,49.6,44.6,32.3,0.0,33.2,23.1,28.3,24.1,46.1,24.6,42.3,39.1,38.5,23.5,30.4,29.9,25.0,34.5,44.5,35.9,27.6,35.0,38.5,28.4,39.8,0.0,34.4,32.8,38.0,31.2,29.6,41.2,26.4,29.5,33.9,33.8,23.1,35.5,35.6,29.3,38.1,29.3,39.1,32.8,39.4,36.1,32.4,22.9,30.1,28.4,28.4,44.5,29.0,23.3,35.4,27.4,32.0,36.6,39.5,42.3,30.8,28.5,32.7,40.6,30.0,49.3,46.3,36.4,24.3,31.2,39.0,26.0,43.3,32.4,36.5,32.0,36.3,37.5,35.5,28.4,44.0,22.5,32.9,36.8,26.2,30.1,30.4],\"type\":\"scatter3d\"}],                        {\"template\":{\"data\":{\"bar\":[{\"error_x\":{\"color\":\"#2a3f5f\"},\"error_y\":{\"color\":\"#2a3f5f\"},\"marker\":{\"line\":{\"color\":\"#E5ECF6\",\"width\":0.5},\"pattern\":{\"fillmode\":\"overlay\",\"size\":10,\"solidity\":0.2}},\"type\":\"bar\"}],\"barpolar\":[{\"marker\":{\"line\":{\"color\":\"#E5ECF6\",\"width\":0.5},\"pattern\":{\"fillmode\":\"overlay\",\"size\":10,\"solidity\":0.2}},\"type\":\"barpolar\"}],\"carpet\":[{\"aaxis\":{\"endlinecolor\":\"#2a3f5f\",\"gridcolor\":\"white\",\"linecolor\":\"white\",\"minorgridcolor\":\"white\",\"startlinecolor\":\"#2a3f5f\"},\"baxis\":{\"endlinecolor\":\"#2a3f5f\",\"gridcolor\":\"white\",\"linecolor\":\"white\",\"minorgridcolor\":\"white\",\"startlinecolor\":\"#2a3f5f\"},\"type\":\"carpet\"}],\"choropleth\":[{\"colorbar\":{\"outlinewidth\":0,\"ticks\":\"\"},\"type\":\"choropleth\"}],\"contour\":[{\"colorbar\":{\"outlinewidth\":0,\"ticks\":\"\"},\"colorscale\":[[0.0,\"#0d0887\"],[0.1111111111111111,\"#46039f\"],[0.2222222222222222,\"#7201a8\"],[0.3333333333333333,\"#9c179e\"],[0.4444444444444444,\"#bd3786\"],[0.5555555555555556,\"#d8576b\"],[0.6666666666666666,\"#ed7953\"],[0.7777777777777778,\"#fb9f3a\"],[0.8888888888888888,\"#fdca26\"],[1.0,\"#f0f921\"]],\"type\":\"contour\"}],\"contourcarpet\":[{\"colorbar\":{\"outlinewidth\":0,\"ticks\":\"\"},\"type\":\"contourcarpet\"}],\"heatmap\":[{\"colorbar\":{\"outlinewidth\":0,\"ticks\":\"\"},\"colorscale\":[[0.0,\"#0d0887\"],[0.1111111111111111,\"#46039f\"],[0.2222222222222222,\"#7201a8\"],[0.3333333333333333,\"#9c179e\"],[0.4444444444444444,\"#bd3786\"],[0.5555555555555556,\"#d8576b\"],[0.6666666666666666,\"#ed7953\"],[0.7777777777777778,\"#fb9f3a\"],[0.8888888888888888,\"#fdca26\"],[1.0,\"#f0f921\"]],\"type\":\"heatmap\"}],\"heatmapgl\":[{\"colorbar\":{\"outlinewidth\":0,\"ticks\":\"\"},\"colorscale\":[[0.0,\"#0d0887\"],[0.1111111111111111,\"#46039f\"],[0.2222222222222222,\"#7201a8\"],[0.3333333333333333,\"#9c179e\"],[0.4444444444444444,\"#bd3786\"],[0.5555555555555556,\"#d8576b\"],[0.6666666666666666,\"#ed7953\"],[0.7777777777777778,\"#fb9f3a\"],[0.8888888888888888,\"#fdca26\"],[1.0,\"#f0f921\"]],\"type\":\"heatmapgl\"}],\"histogram\":[{\"marker\":{\"pattern\":{\"fillmode\":\"overlay\",\"size\":10,\"solidity\":0.2}},\"type\":\"histogram\"}],\"histogram2d\":[{\"colorbar\":{\"outlinewidth\":0,\"ticks\":\"\"},\"colorscale\":[[0.0,\"#0d0887\"],[0.1111111111111111,\"#46039f\"],[0.2222222222222222,\"#7201a8\"],[0.3333333333333333,\"#9c179e\"],[0.4444444444444444,\"#bd3786\"],[0.5555555555555556,\"#d8576b\"],[0.6666666666666666,\"#ed7953\"],[0.7777777777777778,\"#fb9f3a\"],[0.8888888888888888,\"#fdca26\"],[1.0,\"#f0f921\"]],\"type\":\"histogram2d\"}],\"histogram2dcontour\":[{\"colorbar\":{\"outlinewidth\":0,\"ticks\":\"\"},\"colorscale\":[[0.0,\"#0d0887\"],[0.1111111111111111,\"#46039f\"],[0.2222222222222222,\"#7201a8\"],[0.3333333333333333,\"#9c179e\"],[0.4444444444444444,\"#bd3786\"],[0.5555555555555556,\"#d8576b\"],[0.6666666666666666,\"#ed7953\"],[0.7777777777777778,\"#fb9f3a\"],[0.8888888888888888,\"#fdca26\"],[1.0,\"#f0f921\"]],\"type\":\"histogram2dcontour\"}],\"mesh3d\":[{\"colorbar\":{\"outlinewidth\":0,\"ticks\":\"\"},\"type\":\"mesh3d\"}],\"parcoords\":[{\"line\":{\"colorbar\":{\"outlinewidth\":0,\"ticks\":\"\"}},\"type\":\"parcoords\"}],\"pie\":[{\"automargin\":true,\"type\":\"pie\"}],\"scatter\":[{\"marker\":{\"colorbar\":{\"outlinewidth\":0,\"ticks\":\"\"}},\"type\":\"scatter\"}],\"scatter3d\":[{\"line\":{\"colorbar\":{\"outlinewidth\":0,\"ticks\":\"\"}},\"marker\":{\"colorbar\":{\"outlinewidth\":0,\"ticks\":\"\"}},\"type\":\"scatter3d\"}],\"scattercarpet\":[{\"marker\":{\"colorbar\":{\"outlinewidth\":0,\"ticks\":\"\"}},\"type\":\"scattercarpet\"}],\"scattergeo\":[{\"marker\":{\"colorbar\":{\"outlinewidth\":0,\"ticks\":\"\"}},\"type\":\"scattergeo\"}],\"scattergl\":[{\"marker\":{\"colorbar\":{\"outlinewidth\":0,\"ticks\":\"\"}},\"type\":\"scattergl\"}],\"scattermapbox\":[{\"marker\":{\"colorbar\":{\"outlinewidth\":0,\"ticks\":\"\"}},\"type\":\"scattermapbox\"}],\"scatterpolar\":[{\"marker\":{\"colorbar\":{\"outlinewidth\":0,\"ticks\":\"\"}},\"type\":\"scatterpolar\"}],\"scatterpolargl\":[{\"marker\":{\"colorbar\":{\"outlinewidth\":0,\"ticks\":\"\"}},\"type\":\"scatterpolargl\"}],\"scatterternary\":[{\"marker\":{\"colorbar\":{\"outlinewidth\":0,\"ticks\":\"\"}},\"type\":\"scatterternary\"}],\"surface\":[{\"colorbar\":{\"outlinewidth\":0,\"ticks\":\"\"},\"colorscale\":[[0.0,\"#0d0887\"],[0.1111111111111111,\"#46039f\"],[0.2222222222222222,\"#7201a8\"],[0.3333333333333333,\"#9c179e\"],[0.4444444444444444,\"#bd3786\"],[0.5555555555555556,\"#d8576b\"],[0.6666666666666666,\"#ed7953\"],[0.7777777777777778,\"#fb9f3a\"],[0.8888888888888888,\"#fdca26\"],[1.0,\"#f0f921\"]],\"type\":\"surface\"}],\"table\":[{\"cells\":{\"fill\":{\"color\":\"#EBF0F8\"},\"line\":{\"color\":\"white\"}},\"header\":{\"fill\":{\"color\":\"#C8D4E3\"},\"line\":{\"color\":\"white\"}},\"type\":\"table\"}]},\"layout\":{\"annotationdefaults\":{\"arrowcolor\":\"#2a3f5f\",\"arrowhead\":0,\"arrowwidth\":1},\"autotypenumbers\":\"strict\",\"coloraxis\":{\"colorbar\":{\"outlinewidth\":0,\"ticks\":\"\"}},\"colorscale\":{\"diverging\":[[0,\"#8e0152\"],[0.1,\"#c51b7d\"],[0.2,\"#de77ae\"],[0.3,\"#f1b6da\"],[0.4,\"#fde0ef\"],[0.5,\"#f7f7f7\"],[0.6,\"#e6f5d0\"],[0.7,\"#b8e186\"],[0.8,\"#7fbc41\"],[0.9,\"#4d9221\"],[1,\"#276419\"]],\"sequential\":[[0.0,\"#0d0887\"],[0.1111111111111111,\"#46039f\"],[0.2222222222222222,\"#7201a8\"],[0.3333333333333333,\"#9c179e\"],[0.4444444444444444,\"#bd3786\"],[0.5555555555555556,\"#d8576b\"],[0.6666666666666666,\"#ed7953\"],[0.7777777777777778,\"#fb9f3a\"],[0.8888888888888888,\"#fdca26\"],[1.0,\"#f0f921\"]],\"sequentialminus\":[[0.0,\"#0d0887\"],[0.1111111111111111,\"#46039f\"],[0.2222222222222222,\"#7201a8\"],[0.3333333333333333,\"#9c179e\"],[0.4444444444444444,\"#bd3786\"],[0.5555555555555556,\"#d8576b\"],[0.6666666666666666,\"#ed7953\"],[0.7777777777777778,\"#fb9f3a\"],[0.8888888888888888,\"#fdca26\"],[1.0,\"#f0f921\"]]},\"colorway\":[\"#636efa\",\"#EF553B\",\"#00cc96\",\"#ab63fa\",\"#FFA15A\",\"#19d3f3\",\"#FF6692\",\"#B6E880\",\"#FF97FF\",\"#FECB52\"],\"font\":{\"color\":\"#2a3f5f\"},\"geo\":{\"bgcolor\":\"white\",\"lakecolor\":\"white\",\"landcolor\":\"#E5ECF6\",\"showlakes\":true,\"showland\":true,\"subunitcolor\":\"white\"},\"hoverlabel\":{\"align\":\"left\"},\"hovermode\":\"closest\",\"mapbox\":{\"style\":\"light\"},\"paper_bgcolor\":\"white\",\"plot_bgcolor\":\"#E5ECF6\",\"polar\":{\"angularaxis\":{\"gridcolor\":\"white\",\"linecolor\":\"white\",\"ticks\":\"\"},\"bgcolor\":\"#E5ECF6\",\"radialaxis\":{\"gridcolor\":\"white\",\"linecolor\":\"white\",\"ticks\":\"\"}},\"scene\":{\"xaxis\":{\"backgroundcolor\":\"#E5ECF6\",\"gridcolor\":\"white\",\"gridwidth\":2,\"linecolor\":\"white\",\"showbackground\":true,\"ticks\":\"\",\"zerolinecolor\":\"white\"},\"yaxis\":{\"backgroundcolor\":\"#E5ECF6\",\"gridcolor\":\"white\",\"gridwidth\":2,\"linecolor\":\"white\",\"showbackground\":true,\"ticks\":\"\",\"zerolinecolor\":\"white\"},\"zaxis\":{\"backgroundcolor\":\"#E5ECF6\",\"gridcolor\":\"white\",\"gridwidth\":2,\"linecolor\":\"white\",\"showbackground\":true,\"ticks\":\"\",\"zerolinecolor\":\"white\"}},\"shapedefaults\":{\"line\":{\"color\":\"#2a3f5f\"}},\"ternary\":{\"aaxis\":{\"gridcolor\":\"white\",\"linecolor\":\"white\",\"ticks\":\"\"},\"baxis\":{\"gridcolor\":\"white\",\"linecolor\":\"white\",\"ticks\":\"\"},\"bgcolor\":\"#E5ECF6\",\"caxis\":{\"gridcolor\":\"white\",\"linecolor\":\"white\",\"ticks\":\"\"}},\"title\":{\"x\":0.05},\"xaxis\":{\"automargin\":true,\"gridcolor\":\"white\",\"linecolor\":\"white\",\"ticks\":\"\",\"title\":{\"standoff\":15},\"zerolinecolor\":\"white\",\"zerolinewidth\":2},\"yaxis\":{\"automargin\":true,\"gridcolor\":\"white\",\"linecolor\":\"white\",\"ticks\":\"\",\"title\":{\"standoff\":15},\"zerolinecolor\":\"white\",\"zerolinewidth\":2}}},\"scene\":{\"domain\":{\"x\":[0.0,1.0],\"y\":[0.0,1.0]},\"xaxis\":{\"title\":{\"text\":\"Glucose\"}},\"yaxis\":{\"title\":{\"text\":\"BloodPressure\"}},\"zaxis\":{\"title\":{\"text\":\"BMI\"}}},\"coloraxis\":{\"colorbar\":{\"title\":{\"text\":\"Outcome\"}},\"colorscale\":[[0.0,\"#0d0887\"],[0.1111111111111111,\"#46039f\"],[0.2222222222222222,\"#7201a8\"],[0.3333333333333333,\"#9c179e\"],[0.4444444444444444,\"#bd3786\"],[0.5555555555555556,\"#d8576b\"],[0.6666666666666666,\"#ed7953\"],[0.7777777777777778,\"#fb9f3a\"],[0.8888888888888888,\"#fdca26\"],[1.0,\"#f0f921\"]]},\"legend\":{\"tracegroupgap\":0},\"margin\":{\"t\":60}},                        {\"responsive\": true}                    ).then(function(){\n",
              "                            \n",
              "var gd = document.getElementById('8b1643a5-bd18-4fde-b5c9-2ececbc02654');\n",
              "var x = new MutationObserver(function (mutations, observer) {{\n",
              "        var display = window.getComputedStyle(gd).display;\n",
              "        if (!display || display === 'none') {{\n",
              "            console.log([gd, 'removed!']);\n",
              "            Plotly.purge(gd);\n",
              "            observer.disconnect();\n",
              "        }}\n",
              "}});\n",
              "\n",
              "// Listen for the removal of the full notebook cells\n",
              "var notebookContainer = gd.closest('#notebook-container');\n",
              "if (notebookContainer) {{\n",
              "    x.observe(notebookContainer, {childList: true});\n",
              "}}\n",
              "\n",
              "// Listen for the clearing of the current output cell\n",
              "var outputEl = gd.closest('.output');\n",
              "if (outputEl) {{\n",
              "    x.observe(outputEl, {childList: true});\n",
              "}}\n",
              "\n",
              "                        })                };                            </script>        </div>\n",
              "</body>\n",
              "</html>"
            ]
          },
          "metadata": {},
          "output_type": "display_data"
        }
      ],
      "source": [
        "import plotly.express as px  \n",
        "\n",
        "fig =  px.scatter_3d(data, x=  'Glucose', y = 'BloodPressure', z= 'BMI',color = 'Outcome')\n",
        "\n",
        "fig.show() "
      ]
    },
    {
      "cell_type": "markdown",
      "metadata": {
        "id": "uP29tyBsq2VA"
      },
      "source": [
        "#### Definir y dividir las variables"
      ]
    },
    {
      "cell_type": "code",
      "execution_count": null,
      "metadata": {
        "id": "8nB-3kgyq4qk"
      },
      "outputs": [],
      "source": [
        "X=data[['Glucose','BloodPressure','BMI']]\n",
        "y=data[\"Outcome\"]\n",
        "#Entrenamiento, validacion y prueba\n",
        "X_tr, X_ts, y_tr, y_ts = train_test_split(X,y,test_size=0.3)"
      ]
    },
    {
      "cell_type": "markdown",
      "metadata": {
        "id": "IX3vs8ZQq7yf"
      },
      "source": [
        "#### Definir y entrenar el modelo"
      ]
    },
    {
      "cell_type": "code",
      "execution_count": null,
      "metadata": {
        "colab": {
          "base_uri": "https://localhost:8080/"
        },
        "id": "iOQWzEx9q910",
        "outputId": "b22b3579-e99a-423e-d33b-2f562678d0d9"
      },
      "outputs": [
        {
          "data": {
            "text/plain": [
              "KNeighborsClassifier(n_neighbors=7, p=1)"
            ]
          },
          "execution_count": 8,
          "metadata": {},
          "output_type": "execute_result"
        }
      ],
      "source": [
        "from sklearn.metrics.pairwise import manhattan_distances\n",
        "## Definir numero de vecinos y distancia\n",
        "KNN = knn(n_neighbors=7, p=1)\n",
        "#Entrenar el modelo\n",
        "KNN.fit(X_tr, y_tr)"
      ]
    },
    {
      "cell_type": "markdown",
      "metadata": {
        "id": "CrIdywJ4q_dv"
      },
      "source": [
        "#### Predicciones"
      ]
    },
    {
      "cell_type": "code",
      "execution_count": null,
      "metadata": {
        "id": "Nj6qyOPBrBSw"
      },
      "outputs": [],
      "source": [
        "y_pr = KNN.predict(X_ts)"
      ]
    },
    {
      "cell_type": "markdown",
      "metadata": {
        "id": "msP4V8a6rC_U"
      },
      "source": [
        "#### Matriz de confusión"
      ]
    },
    {
      "cell_type": "code",
      "execution_count": null,
      "metadata": {
        "id": "V508yKoFrGp_"
      },
      "outputs": [],
      "source": [
        "from sklearn.metrics import confusion_matrix\n",
        "cm = confusion_matrix(y_ts, y_pr)"
      ]
    },
    {
      "cell_type": "code",
      "execution_count": null,
      "metadata": {
        "colab": {
          "base_uri": "https://localhost:8080/",
          "height": 351
        },
        "id": "6sAU16H1rH8h",
        "outputId": "ce66295c-b7fc-4939-c688-563681e449af"
      },
      "outputs": [
        {
          "data": {
            "text/plain": [
              "Text(42.0, 0.5, 'Truth')"
            ]
          },
          "execution_count": 11,
          "metadata": {},
          "output_type": "execute_result"
        },
        {
          "data": {
            "image/png": "[encoded data removed]",
            "text/plain": [
              "<Figure size 504x360 with 2 Axes>"
            ]
          },
          "metadata": {},
          "output_type": "display_data"
        }
      ],
      "source": [
        "%matplotlib inline\n",
        "import matplotlib.pyplot as plt\n",
        "import seaborn as sn\n",
        "plt.figure(figsize=(7,5))\n",
        "sn.heatmap(cm, annot=True)\n",
        "plt.xlabel('Predicted')\n",
        "plt.ylabel('Truth')"
      ]
    },
    {
      "cell_type": "markdown",
      "metadata": {
        "id": "SPKITfZXrKi9"
      },
      "source": [
        "####Precisión del modelo"
      ]
    },
    {
      "cell_type": "code",
      "execution_count": null,
      "metadata": {
        "colab": {
          "base_uri": "https://localhost:8080/"
        },
        "id": "94QT0qQVrLc2",
        "outputId": "f91e428b-0811-49e2-fcb2-47d552c896bf"
      },
      "outputs": [
        {
          "name": "stdout",
          "output_type": "stream",
          "text": [
            "Accuracy: 0.7705627705627706\n"
          ]
        }
      ],
      "source": [
        "print(\"Accuracy:\",metrics.accuracy_score(y_ts, y_pr))"
      ]
    },
    {
      "cell_type": "code",
      "execution_count": null,
      "metadata": {
        "colab": {
          "base_uri": "https://localhost:8080/"
        },
        "id": "4tFRTMuyrMyS",
        "outputId": "5e5f51f6-b17f-4bba-d479-d3c4f26263af"
      },
      "outputs": [
        {
          "name": "stdout",
          "output_type": "stream",
          "text": [
            "              precision    recall  f1-score   support\n",
            "\n",
            "           0       0.80      0.87      0.83       151\n",
            "           1       0.71      0.57      0.63        80\n",
            "\n",
            "    accuracy                           0.77       231\n",
            "   macro avg       0.75      0.72      0.73       231\n",
            "weighted avg       0.76      0.77      0.76       231\n",
            "\n"
          ]
        }
      ],
      "source": [
        "from sklearn.metrics import classification_report\n",
        "print(classification_report(y_ts, y_pr))"
      ]
    },
    {
      "cell_type": "markdown",
      "metadata": {
        "id": "hjuyVr0QhZKS"
      },
      "source": [
        "## 8) Ventajas y Desventajas"
      ]
    },
    {
      "cell_type": "markdown",
      "metadata": {
        "id": "cG8AQaoR54hy"
      },
      "source": [
        "Realizar este tipo de algoritmos trae consigo muchas ventajas pero a su vez desventajas. Una de las ventajas más significativa que se tiene es que es no parámetrico, como se mencionó anteriormente, al obtener esto, no se hacen suposiciones explícitas sobre la forma funcional de los datos, por lo que se evitan inconvenientes con la distribución subyacente de estos. \n",
        "\n",
        "De igual manera, se tiene que el algoritmo es simple, puesto que es sencillo de explicar, comprender e interpretar. A pesar de esto, este algoritmo tiene una precisión alta, relativamente. Esto se debe a que no es sensible a los valores atípicos que se puedan encontrar, aún así el ruido o las características irrelevantes pueden llegar a afectar la precisión del mismo. "
      ]
    },
    {
      "cell_type": "markdown",
      "metadata": {
        "id": "XhdEPMeLCjZ6"
      },
      "source": [
        "Por otra parte, una de las desventajas de este algoritmo es el coste computacional que se necesita en cuanto a memoria y tiempo para poder realizarlo, esto debido a que se almacenan siempre casi todos los datos de entrenamiento. \n",
        "\n",
        "Otra desventaja es la conocida maldición de la dimensionalidad, la cual implica que el algoritmo no funciona correctamente con entradas de datos de alta dimensionalidad. Esto se debe a que al tener tantas variables puede que algunas no aporten mucha información, lo que hace que la precisión del modelo disminuya.\n",
        "Igualmente, como se presentan muchas características no es tan sencillo hacer clusters y por lo que los algoritmos de distancias se pueden confundir, puesto que al tener tantas variables los puntos pueden parecer equidistantes.\n",
        "\n",
        "\n"
      ]
    }
  ],
  "metadata": {
    "colab": {
      "collapsed_sections": [
        "msSKFOTAKRcN",
        "wFd3zI3MO0WD",
        "rijMhXI7ziqD",
        "TKfbCCThNYGs",
        "gV-r0pi85Cpl",
        "e_6I3tpRlrQB",
        "LeYXdzmzl1b5",
        "vVMXnkKcmAX4",
        "uP29tyBsq2VA",
        "IX3vs8ZQq7yf",
        "CrIdywJ4q_dv",
        "msP4V8a6rC_U",
        "SPKITfZXrKi9"
      ],
      "provenance": [],
      "include_colab_link": true
    },
    "kernelspec": {
      "display_name": "Python 3",
      "name": "python3"
    },
    "language_info": {
      "name": "python"
    }
  },
  "nbformat": 4,
  "nbformat_minor": 0
}