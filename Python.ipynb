{
 "cells": [
  {
   "cell_type": "markdown",
   "metadata": {},
   "source": [
    "<h1> <center> <font color=\"red\"> <b> Python </b> </font> </h1>\n",
    "<h4>   Laura Carolina Rincón Ochoa  <br>\n",
    "   Stefanía Rojas García </h4>"
   ]
  },
  {
   "cell_type": "markdown",
   "metadata": {},
   "source": [
    "<h4> <font color=\"13848D\"> <b> Ejercicio 1 </b> </font> </h4>   \n",
    "Defina un diccionario de al menos 4 llaves de tal manera que esas llaves sean tuplas. Acceda a cada elemento. ¿Puede hacer lo mismo para una llave que sea definida como lista o diccionario?<br>\n",
    "No se puede definir una lista o diccionario como llave, puesto que estas son objetos mutables y las llaves son un objeto de codificación al cual no se le puede cambiar su valor."
   ]
  },
  {
   "cell_type": "code",
   "execution_count": 2,
   "metadata": {},
   "outputs": [
    {
     "name": "stdout",
     "output_type": "stream",
     "text": [
      "El Primer Elemento es 12\n",
      "El Segundo Elemento en la primera posición es 13\n",
      "El Segundo Elemento en la segunda posición es 14\n",
      "El Tercer Elemento en la primera posición es 15\n",
      "El Tercer Elemento en la segunda posición es 16\n",
      "El Cuarto Elemento es 17\n"
     ]
    }
   ],
   "source": [
    "dic = {('a','b','c'): 12, ('aa','bb','cc'):(13,14), ('aaa','bbb','ccc'):[15,16],('aaaa','bbbb','cccc'):17}\n",
    "print('El Primer Elemento es', dic[('a','b','c')])\n",
    "print('El Segundo Elemento en la primera posición es', dic[('aa','bb','cc')][0])\n",
    "print('El Segundo Elemento en la segunda posición es', dic[('aa','bb','cc')][1])\n",
    "print('El Tercer Elemento en la primera posición es', dic[(('aaa','bbb','ccc'))][0])\n",
    "print('El Tercer Elemento en la segunda posición es', dic[('aaa','bbb','ccc')][1])\n",
    "print('El Cuarto Elemento es', dic[('aaaa','bbbb','cccc')])"
   ]
  },
  {
   "cell_type": "markdown",
   "metadata": {},
   "source": [
    "<h4> <font color=\"13848D\"> <b> Ejercicio 2</b> </font> </h4>    \n",
    "<ol>\n",
    "  <li>  <b>¿Qué significa default?  </b><br>\n",
    "    Proporciona valores predeterminados a los argumentos, es decir, si el valor del argumento no es indicado o explícito este tomará un valor por defecto configurado anteriormente.  </li>\n",
    "  <li>  <b>d.keys():  </b> Devuelve un objeto tipo lista con las llaves del diccionario. </li>\n",
    "  <li>  <b>d.values():  </b> Retorna un objeto tipo lista el cual contiene los valores del diccionario. </li>\n",
    "  <li>  <b>d.pop():</b> Elimina el elemento en el índice dado de la lista y devuelve el elemento eliminado.    </li>\n",
    "  <li>  <b>d.popitem(): </b> Elimina el último elemento insertado al diccionario (<i>En versiones 3.7, el método elimina un elemento aleatorio</i>) y retorna el elemento eliminado en un objeto tipo tupla. </li>\n",
    "  <li>  <b>d.update(): </b> Actualiza el objeto, añadiendo elementos que se definan en la función </li>    \n",
    "</ol>"
   ]
  },
  {
   "cell_type": "markdown",
   "metadata": {},
   "source": [
    "<h4> <font color=\"13848D\"> <b> Ejercicio 3 </b> </font> </h4>   \n",
    "A partir de las siguientes líneas de código, entienda lo que hace cada uno de los métodos y cree sus propio ejemplo de mayor complejidad."
   ]
  },
  {
   "cell_type": "code",
   "execution_count": 3,
   "metadata": {},
   "outputs": [
    {
     "name": "stdout",
     "output_type": "stream",
     "text": [
      "<class 'dict'>\n",
      "{'Colores': ['Negro', 'Rojo', 'Azul'], 'Animales': 'Gato', 'Calzado': ['Botas', 'Botines', 'Deportivos', 'Sanadalias']}\n",
      "dict_keys(['Colores', 'Animales', 'Calzado'])\n",
      "dict_values([['Negro', 'Rojo', 'Azul'], 'Gato', ['Botas', 'Botines', 'Deportivos', 'Sanadalias']])\n",
      "['Negro', 'Rojo', 'Azul']\n",
      "{'Animales': 'Gato', 'Calzado': ['Botas', 'Botines', 'Deportivos', 'Sanadalias']}\n",
      "('Calzado', ['Botas', 'Botines', 'Deportivos', 'Sanadalias'])\n",
      "{'Animales': 'Gato'}\n",
      "None\n"
     ]
    }
   ],
   "source": [
    "my_dic=dict([\n",
    "             ('Colores', ['Negro','Rojo','Azul']),\n",
    "             ('Animales', 'Gato'),\n",
    "             ('Calzado', ['Botas','Botines','Deportivos','Sanadalias'])\n",
    "            ])\n",
    "\n",
    "persona = {}\n",
    "print(type(persona))\n",
    "\n",
    "persona['Nombre'] = 'Gengis'\n",
    "persona['Apellido'] = 'Khan'\n",
    "persona['Edad'] = 23\n",
    "persona['Esposa'] = ['Börte Qatun','Yesugen','Qulan Qatun','Möge Qatun','Juerbiesu','Ibaqa Beki']\n",
    "persona['Hijos'] = 'En estudio'\n",
    "persona['Mascotas'] = {'Perro': 'Wahadi', 'Gato': 'Gotze','Leon':'Pichirilo'}\n",
    "\n",
    "print(my_dic)\n",
    "print(my_dic.keys())\n",
    "print(my_dic.values())\n",
    "print(my_dic.pop('Colores'))\n",
    "print(my_dic)\n",
    "print(my_dic.popitem())\n",
    "print(my_dic)\n",
    "print(my_dic.update(persona))"
   ]
  },
  {
   "cell_type": "markdown",
   "metadata": {},
   "source": [
    "<h4> <font color=\"red\"> <b> Ejemplo Propuesto </b> </font> </h4> "
   ]
  },
  {
   "cell_type": "code",
   "execution_count": 4,
   "metadata": {},
   "outputs": [
    {
     "name": "stdout",
     "output_type": "stream",
     "text": [
      "{'Números': [1, 2, 3, 4, 5, 6, 7, 8, 9, 10], 'Frutas': {'Manzana': 'Rojo', 'Pera': 'Verde', 'Mango': 'Amarillo', 'Fresa': 'Rojo'}, 'Dias_Semana': ['Lunes', 'Martes', 'Miercoles', 'Jueves', 'Viernes']}\n",
      "dict_keys(['Números', 'Frutas', 'Dias_Semana'])\n",
      "dict_values([[1, 2, 3, 4, 5, 6, 7, 8, 9, 10], {'Manzana': 'Rojo', 'Pera': 'Verde', 'Mango': 'Amarillo', 'Fresa': 'Rojo'}, ['Lunes', 'Martes', 'Miercoles', 'Jueves', 'Viernes']])\n",
      "{'Manzana': 'Rojo', 'Pera': 'Verde', 'Mango': 'Amarillo', 'Fresa': 'Rojo'}\n",
      "{'Números': [1, 2, 3, 4, 5, 6, 7, 8, 9, 10], 'Dias_Semana': ['Lunes', 'Martes', 'Miercoles', 'Jueves', 'Viernes']}\n",
      "('Dias_Semana', ['Lunes', 'Martes', 'Miercoles', 'Jueves', 'Viernes'])\n",
      "{'Números': [1, 2, 3, 4, 5, 6, 7, 8, 9, 10]}\n",
      "None\n"
     ]
    }
   ],
   "source": [
    "dic = dict([\n",
    "    ('Números',[1,2,3,4,5,6,7,8,9,10]),\n",
    "    ('Frutas', {'Manzana':'Rojo', 'Pera':'Verde', 'Mango':'Amarillo', 'Fresa':'Rojo'}),\n",
    "    ('Dias_Semana',['Lunes','Martes','Miercoles','Jueves','Viernes'])\n",
    "     ])\n",
    "\n",
    "\n",
    "print(dic)\n",
    "print(dic.keys())\n",
    "print(dic.values())\n",
    "print(dic.pop('Frutas'))\n",
    "print(dic)\n",
    "print(dic.popitem())\n",
    "print(dic)\n",
    "print(dic.update(persona))"
   ]
  },
  {
   "cell_type": "markdown",
   "metadata": {},
   "source": [
    "   "
   ]
  },
  {
   "cell_type": "markdown",
   "metadata": {},
   "source": [
    "<h4> <font color=\"13848D\"> <b> Ejercicio cuentas bancarias </b> </font> </h4> "
   ]
  },
  {
   "cell_type": "markdown",
   "metadata": {},
   "source": [
    "Escriba un cuadernos en donde implemente  una clase  iterable  que haga lo siguiente: <ol>\n",
    "<li>  al inicio abra el archivo y lo suba a un dataframe de Pandas. <\\li>\n",
    "<li>  Entregue la información de la siguiente cuenta cuando se le pida el siguiente dato. <\\li>"
   ]
  },
  {
   "cell_type": "code",
   "execution_count": 5,
   "metadata": {},
   "outputs": [
    {
     "data": {
      "text/html": [
       "<div>\n",
       "<style scoped>\n",
       "    .dataframe tbody tr th:only-of-type {\n",
       "        vertical-align: middle;\n",
       "    }\n",
       "\n",
       "    .dataframe tbody tr th {\n",
       "        vertical-align: top;\n",
       "    }\n",
       "\n",
       "    .dataframe thead th {\n",
       "        text-align: right;\n",
       "    }\n",
       "</style>\n",
       "<table border=\"1\" class=\"dataframe\">\n",
       "  <thead>\n",
       "    <tr style=\"text-align: right;\">\n",
       "      <th></th>\n",
       "      <th>Numero_de_cuenta</th>\n",
       "      <th>Nombre_cliente</th>\n",
       "      <th>Saldo_actual</th>\n",
       "      <th>Ultima_transacción</th>\n",
       "    </tr>\n",
       "  </thead>\n",
       "  <tbody>\n",
       "    <tr>\n",
       "      <th>0</th>\n",
       "      <td>226068</td>\n",
       "      <td>Daniel Lexus</td>\n",
       "      <td>41891798</td>\n",
       "      <td>2021-03-26</td>\n",
       "    </tr>\n",
       "    <tr>\n",
       "      <th>1</th>\n",
       "      <td>920625</td>\n",
       "      <td>Aiden Suzuki</td>\n",
       "      <td>29300608</td>\n",
       "      <td>2020-12-25</td>\n",
       "    </tr>\n",
       "    <tr>\n",
       "      <th>2</th>\n",
       "      <td>734732</td>\n",
       "      <td>Mia Nissan</td>\n",
       "      <td>13904561</td>\n",
       "      <td>2021-12-04</td>\n",
       "    </tr>\n",
       "  </tbody>\n",
       "</table>\n",
       "</div>"
      ],
      "text/plain": [
       "   Numero_de_cuenta Nombre_cliente  Saldo_actual Ultima_transacción\n",
       "0            226068   Daniel Lexus      41891798         2021-03-26\n",
       "1            920625   Aiden Suzuki      29300608         2020-12-25\n",
       "2            734732     Mia Nissan      13904561         2021-12-04"
      ]
     },
     "execution_count": 5,
     "metadata": {},
     "output_type": "execute_result"
    }
   ],
   "source": [
    "import pandas as pd\n",
    "URL = \"https://github.com/StefaniaRojas/Mineria-de-datos/blob/main/Cuentas.xlsx?raw=true\"\n",
    "cuentas = pd.read_excel(URL)\n",
    "cuentas.head(3)"
   ]
  },
  {
   "cell_type": "code",
   "execution_count": 6,
   "metadata": {},
   "outputs": [],
   "source": [
    "class Cuenta:\n",
    "    def __init__(self, URL):\n",
    "        self.Datafr = pd.read_excel(URL)\n",
    "        self.val = 0\n",
    "        self.lim = self.Datafr.shape[0] - 1\n",
    "    \n",
    "    def __iter__(self):\n",
    "        return self\n",
    "    \n",
    "    def __next__(self):\n",
    "        if self.val > self.lim:\n",
    "            raise StopIteration\n",
    "        else:\n",
    "            return_val = self.val\n",
    "            self.val += 1\n",
    "            return return_val\n"
   ]
  },
  {
   "cell_type": "code",
   "execution_count": 8,
   "metadata": {},
   "outputs": [
    {
     "name": "stdout",
     "output_type": "stream",
     "text": [
      "Numero_de_cuenta                   226068\n",
      "Nombre_cliente               Daniel Lexus\n",
      "Saldo_actual                     41891798\n",
      "Ultima_transacción    2021-03-26 00:00:00\n",
      "Name: 0, dtype: object\n",
      "\n",
      "Siguiente Usuario:\n",
      "\n",
      "Numero_de_cuenta                   920625\n",
      "Nombre_cliente               Aiden Suzuki\n",
      "Saldo_actual                     29300608\n",
      "Ultima_transacción    2020-12-25 00:00:00\n",
      "Name: 1, dtype: object\n"
     ]
    }
   ],
   "source": [
    "itera = iter(Cuenta(URL))\n",
    "print(cuentas.iloc[next(itera)])\n",
    "print()\n",
    "print(\"Siguiente Usuario:\")\n",
    "print()\n",
    "print(cuentas.iloc[next(itera)])"
   ]
  }
 ],
 "metadata": {
  "kernelspec": {
   "display_name": "Python 3",
   "language": "python",
   "name": "python3"
  },
  "language_info": {
   "codemirror_mode": {
    "name": "ipython",
    "version": 3
   },
   "file_extension": ".py",
   "mimetype": "text/x-python",
   "name": "python",
   "nbconvert_exporter": "python",
   "pygments_lexer": "ipython3",
   "version": "3.7.6"
  }
 },
 "nbformat": 4,
 "nbformat_minor": 5
}
